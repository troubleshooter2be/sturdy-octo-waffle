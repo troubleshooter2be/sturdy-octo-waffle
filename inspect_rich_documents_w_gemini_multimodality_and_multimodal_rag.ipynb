{
 "cells": [
  {
   "cell_type": "markdown",
   "id": "a1803c39-71f2-4564-bd69-3df66a1cb947",
   "metadata": {},
   "source": [
    "# Inspect Rich Documents with Gemini Multimodality and Multimodal RAG Challenge Lab\n",
    "\n",
    "__Note__: if you encounter an authentication error when running the cells in the notebook, go to __Vertex AI__ > __Dashboard__, and click on __Enable All Recommended APIs__. Then, re-run the failed cell, and continue the lab.  \n",
    "\n",
    "## Setup and requirements\n",
    "\n",
    "### Install Vertex AI SDK for Python and other dependencies\n",
    "\n",
    "Run the following four cells below before you get to Task 1. Be sure to add your current project ID to the cell titled __Define Google Cloud project information__. "
   ]
  },
  {
   "cell_type": "code",
   "execution_count": 1,
   "id": "219e959e-a819-4af5-8ad2-db5cf77f969e",
   "metadata": {
    "tags": []
   },
   "outputs": [
    {
     "name": "stdout",
     "output_type": "stream",
     "text": [
      "Requirement already satisfied: google-cloud-aiplatform in /opt/conda/lib/python3.10/site-packages (1.51.0)\n",
      "Requirement already satisfied: google-api-core!=2.0.*,!=2.1.*,!=2.2.*,!=2.3.*,!=2.4.*,!=2.5.*,!=2.6.*,!=2.7.*,<3.0.0dev,>=1.34.1 in /opt/conda/lib/python3.10/site-packages (from google-api-core[grpc]!=2.0.*,!=2.1.*,!=2.2.*,!=2.3.*,!=2.4.*,!=2.5.*,!=2.6.*,!=2.7.*,<3.0.0dev,>=1.34.1->google-cloud-aiplatform) (1.34.1)\n",
      "Requirement already satisfied: google-auth<3.0.0dev,>=2.14.1 in /opt/conda/lib/python3.10/site-packages (from google-cloud-aiplatform) (2.29.0)\n",
      "Requirement already satisfied: proto-plus<2.0.0dev,>=1.22.0 in /opt/conda/lib/python3.10/site-packages (from google-cloud-aiplatform) (1.23.0)\n",
      "Requirement already satisfied: protobuf!=3.20.0,!=3.20.1,!=4.21.0,!=4.21.1,!=4.21.2,!=4.21.3,!=4.21.4,!=4.21.5,<5.0.0dev,>=3.19.5 in /opt/conda/lib/python3.10/site-packages (from google-cloud-aiplatform) (3.20.3)\n",
      "Requirement already satisfied: packaging>=14.3 in /opt/conda/lib/python3.10/site-packages (from google-cloud-aiplatform) (24.0)\n",
      "Requirement already satisfied: google-cloud-storage<3.0.0dev,>=1.32.0 in /opt/conda/lib/python3.10/site-packages (from google-cloud-aiplatform) (2.14.0)\n",
      "Requirement already satisfied: google-cloud-bigquery!=3.20.0,<4.0.0dev,>=1.15.0 in /opt/conda/lib/python3.10/site-packages (from google-cloud-aiplatform) (3.22.0)\n",
      "Requirement already satisfied: google-cloud-resource-manager<3.0.0dev,>=1.3.3 in /opt/conda/lib/python3.10/site-packages (from google-cloud-aiplatform) (1.12.3)\n",
      "Requirement already satisfied: shapely<3.0.0dev in /opt/conda/lib/python3.10/site-packages (from google-cloud-aiplatform) (2.0.4)\n",
      "Requirement already satisfied: pydantic<3 in /opt/conda/lib/python3.10/site-packages (from google-cloud-aiplatform) (1.10.15)\n",
      "Requirement already satisfied: docstring-parser<1 in /opt/conda/lib/python3.10/site-packages (from google-cloud-aiplatform) (0.16)\n",
      "Requirement already satisfied: googleapis-common-protos<2.0dev,>=1.56.2 in /opt/conda/lib/python3.10/site-packages (from google-api-core!=2.0.*,!=2.1.*,!=2.2.*,!=2.3.*,!=2.4.*,!=2.5.*,!=2.6.*,!=2.7.*,<3.0.0dev,>=1.34.1->google-api-core[grpc]!=2.0.*,!=2.1.*,!=2.2.*,!=2.3.*,!=2.4.*,!=2.5.*,!=2.6.*,!=2.7.*,<3.0.0dev,>=1.34.1->google-cloud-aiplatform) (1.63.0)\n",
      "Requirement already satisfied: requests<3.0.0dev,>=2.18.0 in /opt/conda/lib/python3.10/site-packages (from google-api-core!=2.0.*,!=2.1.*,!=2.2.*,!=2.3.*,!=2.4.*,!=2.5.*,!=2.6.*,!=2.7.*,<3.0.0dev,>=1.34.1->google-api-core[grpc]!=2.0.*,!=2.1.*,!=2.2.*,!=2.3.*,!=2.4.*,!=2.5.*,!=2.6.*,!=2.7.*,<3.0.0dev,>=1.34.1->google-cloud-aiplatform) (2.31.0)\n",
      "Requirement already satisfied: grpcio<2.0dev,>=1.33.2 in /opt/conda/lib/python3.10/site-packages (from google-api-core[grpc]!=2.0.*,!=2.1.*,!=2.2.*,!=2.3.*,!=2.4.*,!=2.5.*,!=2.6.*,!=2.7.*,<3.0.0dev,>=1.34.1->google-cloud-aiplatform) (1.48.1)\n",
      "Requirement already satisfied: grpcio-status<2.0dev,>=1.33.2 in /opt/conda/lib/python3.10/site-packages (from google-api-core[grpc]!=2.0.*,!=2.1.*,!=2.2.*,!=2.3.*,!=2.4.*,!=2.5.*,!=2.6.*,!=2.7.*,<3.0.0dev,>=1.34.1->google-cloud-aiplatform) (1.48.1)\n",
      "Requirement already satisfied: cachetools<6.0,>=2.0.0 in /opt/conda/lib/python3.10/site-packages (from google-auth<3.0.0dev,>=2.14.1->google-cloud-aiplatform) (4.2.4)\n",
      "Requirement already satisfied: pyasn1-modules>=0.2.1 in /opt/conda/lib/python3.10/site-packages (from google-auth<3.0.0dev,>=2.14.1->google-cloud-aiplatform) (0.4.0)\n",
      "Requirement already satisfied: rsa<5,>=3.1.4 in /opt/conda/lib/python3.10/site-packages (from google-auth<3.0.0dev,>=2.14.1->google-cloud-aiplatform) (4.9)\n",
      "Requirement already satisfied: google-cloud-core<3.0.0dev,>=1.6.0 in /opt/conda/lib/python3.10/site-packages (from google-cloud-bigquery!=3.20.0,<4.0.0dev,>=1.15.0->google-cloud-aiplatform) (2.4.1)\n",
      "Requirement already satisfied: google-resumable-media<3.0dev,>=0.6.0 in /opt/conda/lib/python3.10/site-packages (from google-cloud-bigquery!=3.20.0,<4.0.0dev,>=1.15.0->google-cloud-aiplatform) (2.7.0)\n",
      "Requirement already satisfied: python-dateutil<3.0dev,>=2.7.2 in /opt/conda/lib/python3.10/site-packages (from google-cloud-bigquery!=3.20.0,<4.0.0dev,>=1.15.0->google-cloud-aiplatform) (2.9.0)\n",
      "Requirement already satisfied: grpc-google-iam-v1<1.0.0dev,>=0.12.4 in /opt/conda/lib/python3.10/site-packages (from google-cloud-resource-manager<3.0.0dev,>=1.3.3->google-cloud-aiplatform) (0.12.7)\n",
      "Requirement already satisfied: google-crc32c<2.0dev,>=1.0 in /opt/conda/lib/python3.10/site-packages (from google-cloud-storage<3.0.0dev,>=1.32.0->google-cloud-aiplatform) (1.5.0)\n",
      "Requirement already satisfied: typing-extensions>=4.2.0 in /opt/conda/lib/python3.10/site-packages (from pydantic<3->google-cloud-aiplatform) (4.11.0)\n",
      "Requirement already satisfied: numpy<3,>=1.14 in /opt/conda/lib/python3.10/site-packages (from shapely<3.0.0dev->google-cloud-aiplatform) (1.24.4)\n",
      "Requirement already satisfied: six>=1.5.2 in /opt/conda/lib/python3.10/site-packages (from grpcio<2.0dev,>=1.33.2->google-api-core[grpc]!=2.0.*,!=2.1.*,!=2.2.*,!=2.3.*,!=2.4.*,!=2.5.*,!=2.6.*,!=2.7.*,<3.0.0dev,>=1.34.1->google-cloud-aiplatform) (1.16.0)\n",
      "Requirement already satisfied: pyasn1<0.7.0,>=0.4.6 in /opt/conda/lib/python3.10/site-packages (from pyasn1-modules>=0.2.1->google-auth<3.0.0dev,>=2.14.1->google-cloud-aiplatform) (0.6.0)\n",
      "Requirement already satisfied: charset-normalizer<4,>=2 in /opt/conda/lib/python3.10/site-packages (from requests<3.0.0dev,>=2.18.0->google-api-core!=2.0.*,!=2.1.*,!=2.2.*,!=2.3.*,!=2.4.*,!=2.5.*,!=2.6.*,!=2.7.*,<3.0.0dev,>=1.34.1->google-api-core[grpc]!=2.0.*,!=2.1.*,!=2.2.*,!=2.3.*,!=2.4.*,!=2.5.*,!=2.6.*,!=2.7.*,<3.0.0dev,>=1.34.1->google-cloud-aiplatform) (3.3.2)\n",
      "Requirement already satisfied: idna<4,>=2.5 in /opt/conda/lib/python3.10/site-packages (from requests<3.0.0dev,>=2.18.0->google-api-core!=2.0.*,!=2.1.*,!=2.2.*,!=2.3.*,!=2.4.*,!=2.5.*,!=2.6.*,!=2.7.*,<3.0.0dev,>=1.34.1->google-api-core[grpc]!=2.0.*,!=2.1.*,!=2.2.*,!=2.3.*,!=2.4.*,!=2.5.*,!=2.6.*,!=2.7.*,<3.0.0dev,>=1.34.1->google-cloud-aiplatform) (3.7)\n",
      "Requirement already satisfied: urllib3<3,>=1.21.1 in /opt/conda/lib/python3.10/site-packages (from requests<3.0.0dev,>=2.18.0->google-api-core!=2.0.*,!=2.1.*,!=2.2.*,!=2.3.*,!=2.4.*,!=2.5.*,!=2.6.*,!=2.7.*,<3.0.0dev,>=1.34.1->google-api-core[grpc]!=2.0.*,!=2.1.*,!=2.2.*,!=2.3.*,!=2.4.*,!=2.5.*,!=2.6.*,!=2.7.*,<3.0.0dev,>=1.34.1->google-cloud-aiplatform) (1.26.18)\n",
      "Requirement already satisfied: certifi>=2017.4.17 in /opt/conda/lib/python3.10/site-packages (from requests<3.0.0dev,>=2.18.0->google-api-core!=2.0.*,!=2.1.*,!=2.2.*,!=2.3.*,!=2.4.*,!=2.5.*,!=2.6.*,!=2.7.*,<3.0.0dev,>=1.34.1->google-api-core[grpc]!=2.0.*,!=2.1.*,!=2.2.*,!=2.3.*,!=2.4.*,!=2.5.*,!=2.6.*,!=2.7.*,<3.0.0dev,>=1.34.1->google-cloud-aiplatform) (2024.2.2)\n",
      "Requirement already satisfied: google-cloud-aiplatform in /opt/conda/lib/python3.10/site-packages (1.51.0)\n",
      "Collecting pymupdf\n",
      "  Downloading PyMuPDF-1.24.4-cp310-none-manylinux2014_x86_64.whl.metadata (3.4 kB)\n",
      "Requirement already satisfied: google-api-core!=2.0.*,!=2.1.*,!=2.2.*,!=2.3.*,!=2.4.*,!=2.5.*,!=2.6.*,!=2.7.*,<3.0.0dev,>=1.34.1 in /opt/conda/lib/python3.10/site-packages (from google-api-core[grpc]!=2.0.*,!=2.1.*,!=2.2.*,!=2.3.*,!=2.4.*,!=2.5.*,!=2.6.*,!=2.7.*,<3.0.0dev,>=1.34.1->google-cloud-aiplatform) (1.34.1)\n",
      "Requirement already satisfied: google-auth<3.0.0dev,>=2.14.1 in /opt/conda/lib/python3.10/site-packages (from google-cloud-aiplatform) (2.29.0)\n",
      "Requirement already satisfied: proto-plus<2.0.0dev,>=1.22.0 in /opt/conda/lib/python3.10/site-packages (from google-cloud-aiplatform) (1.23.0)\n",
      "Requirement already satisfied: protobuf!=3.20.0,!=3.20.1,!=4.21.0,!=4.21.1,!=4.21.2,!=4.21.3,!=4.21.4,!=4.21.5,<5.0.0dev,>=3.19.5 in /opt/conda/lib/python3.10/site-packages (from google-cloud-aiplatform) (3.20.3)\n",
      "Requirement already satisfied: packaging>=14.3 in /opt/conda/lib/python3.10/site-packages (from google-cloud-aiplatform) (24.0)\n",
      "Requirement already satisfied: google-cloud-storage<3.0.0dev,>=1.32.0 in /opt/conda/lib/python3.10/site-packages (from google-cloud-aiplatform) (2.14.0)\n",
      "Requirement already satisfied: google-cloud-bigquery!=3.20.0,<4.0.0dev,>=1.15.0 in /opt/conda/lib/python3.10/site-packages (from google-cloud-aiplatform) (3.22.0)\n",
      "Requirement already satisfied: google-cloud-resource-manager<3.0.0dev,>=1.3.3 in /opt/conda/lib/python3.10/site-packages (from google-cloud-aiplatform) (1.12.3)\n",
      "Requirement already satisfied: shapely<3.0.0dev in /opt/conda/lib/python3.10/site-packages (from google-cloud-aiplatform) (2.0.4)\n",
      "Requirement already satisfied: pydantic<3 in /opt/conda/lib/python3.10/site-packages (from google-cloud-aiplatform) (1.10.15)\n",
      "Requirement already satisfied: docstring-parser<1 in /opt/conda/lib/python3.10/site-packages (from google-cloud-aiplatform) (0.16)\n",
      "Collecting PyMuPDFb==1.24.3 (from pymupdf)\n",
      "  Downloading PyMuPDFb-1.24.3-py3-none-manylinux2014_x86_64.manylinux_2_17_x86_64.whl.metadata (1.4 kB)\n",
      "Requirement already satisfied: googleapis-common-protos<2.0dev,>=1.56.2 in /opt/conda/lib/python3.10/site-packages (from google-api-core!=2.0.*,!=2.1.*,!=2.2.*,!=2.3.*,!=2.4.*,!=2.5.*,!=2.6.*,!=2.7.*,<3.0.0dev,>=1.34.1->google-api-core[grpc]!=2.0.*,!=2.1.*,!=2.2.*,!=2.3.*,!=2.4.*,!=2.5.*,!=2.6.*,!=2.7.*,<3.0.0dev,>=1.34.1->google-cloud-aiplatform) (1.63.0)\n",
      "Requirement already satisfied: requests<3.0.0dev,>=2.18.0 in /opt/conda/lib/python3.10/site-packages (from google-api-core!=2.0.*,!=2.1.*,!=2.2.*,!=2.3.*,!=2.4.*,!=2.5.*,!=2.6.*,!=2.7.*,<3.0.0dev,>=1.34.1->google-api-core[grpc]!=2.0.*,!=2.1.*,!=2.2.*,!=2.3.*,!=2.4.*,!=2.5.*,!=2.6.*,!=2.7.*,<3.0.0dev,>=1.34.1->google-cloud-aiplatform) (2.31.0)\n",
      "Requirement already satisfied: grpcio<2.0dev,>=1.33.2 in /opt/conda/lib/python3.10/site-packages (from google-api-core[grpc]!=2.0.*,!=2.1.*,!=2.2.*,!=2.3.*,!=2.4.*,!=2.5.*,!=2.6.*,!=2.7.*,<3.0.0dev,>=1.34.1->google-cloud-aiplatform) (1.48.1)\n",
      "Requirement already satisfied: grpcio-status<2.0dev,>=1.33.2 in /opt/conda/lib/python3.10/site-packages (from google-api-core[grpc]!=2.0.*,!=2.1.*,!=2.2.*,!=2.3.*,!=2.4.*,!=2.5.*,!=2.6.*,!=2.7.*,<3.0.0dev,>=1.34.1->google-cloud-aiplatform) (1.48.1)\n",
      "Requirement already satisfied: cachetools<6.0,>=2.0.0 in /opt/conda/lib/python3.10/site-packages (from google-auth<3.0.0dev,>=2.14.1->google-cloud-aiplatform) (4.2.4)\n",
      "Requirement already satisfied: pyasn1-modules>=0.2.1 in /opt/conda/lib/python3.10/site-packages (from google-auth<3.0.0dev,>=2.14.1->google-cloud-aiplatform) (0.4.0)\n",
      "Requirement already satisfied: rsa<5,>=3.1.4 in /opt/conda/lib/python3.10/site-packages (from google-auth<3.0.0dev,>=2.14.1->google-cloud-aiplatform) (4.9)\n",
      "Requirement already satisfied: google-cloud-core<3.0.0dev,>=1.6.0 in /opt/conda/lib/python3.10/site-packages (from google-cloud-bigquery!=3.20.0,<4.0.0dev,>=1.15.0->google-cloud-aiplatform) (2.4.1)\n",
      "Requirement already satisfied: google-resumable-media<3.0dev,>=0.6.0 in /opt/conda/lib/python3.10/site-packages (from google-cloud-bigquery!=3.20.0,<4.0.0dev,>=1.15.0->google-cloud-aiplatform) (2.7.0)\n",
      "Requirement already satisfied: python-dateutil<3.0dev,>=2.7.2 in /opt/conda/lib/python3.10/site-packages (from google-cloud-bigquery!=3.20.0,<4.0.0dev,>=1.15.0->google-cloud-aiplatform) (2.9.0)\n",
      "Requirement already satisfied: grpc-google-iam-v1<1.0.0dev,>=0.12.4 in /opt/conda/lib/python3.10/site-packages (from google-cloud-resource-manager<3.0.0dev,>=1.3.3->google-cloud-aiplatform) (0.12.7)\n",
      "Requirement already satisfied: google-crc32c<2.0dev,>=1.0 in /opt/conda/lib/python3.10/site-packages (from google-cloud-storage<3.0.0dev,>=1.32.0->google-cloud-aiplatform) (1.5.0)\n",
      "Requirement already satisfied: typing-extensions>=4.2.0 in /opt/conda/lib/python3.10/site-packages (from pydantic<3->google-cloud-aiplatform) (4.11.0)\n",
      "Requirement already satisfied: numpy<3,>=1.14 in /opt/conda/lib/python3.10/site-packages (from shapely<3.0.0dev->google-cloud-aiplatform) (1.24.4)\n",
      "Requirement already satisfied: six>=1.5.2 in /opt/conda/lib/python3.10/site-packages (from grpcio<2.0dev,>=1.33.2->google-api-core[grpc]!=2.0.*,!=2.1.*,!=2.2.*,!=2.3.*,!=2.4.*,!=2.5.*,!=2.6.*,!=2.7.*,<3.0.0dev,>=1.34.1->google-cloud-aiplatform) (1.16.0)\n",
      "Requirement already satisfied: pyasn1<0.7.0,>=0.4.6 in /opt/conda/lib/python3.10/site-packages (from pyasn1-modules>=0.2.1->google-auth<3.0.0dev,>=2.14.1->google-cloud-aiplatform) (0.6.0)\n",
      "Requirement already satisfied: charset-normalizer<4,>=2 in /opt/conda/lib/python3.10/site-packages (from requests<3.0.0dev,>=2.18.0->google-api-core!=2.0.*,!=2.1.*,!=2.2.*,!=2.3.*,!=2.4.*,!=2.5.*,!=2.6.*,!=2.7.*,<3.0.0dev,>=1.34.1->google-api-core[grpc]!=2.0.*,!=2.1.*,!=2.2.*,!=2.3.*,!=2.4.*,!=2.5.*,!=2.6.*,!=2.7.*,<3.0.0dev,>=1.34.1->google-cloud-aiplatform) (3.3.2)\n",
      "Requirement already satisfied: idna<4,>=2.5 in /opt/conda/lib/python3.10/site-packages (from requests<3.0.0dev,>=2.18.0->google-api-core!=2.0.*,!=2.1.*,!=2.2.*,!=2.3.*,!=2.4.*,!=2.5.*,!=2.6.*,!=2.7.*,<3.0.0dev,>=1.34.1->google-api-core[grpc]!=2.0.*,!=2.1.*,!=2.2.*,!=2.3.*,!=2.4.*,!=2.5.*,!=2.6.*,!=2.7.*,<3.0.0dev,>=1.34.1->google-cloud-aiplatform) (3.7)\n",
      "Requirement already satisfied: urllib3<3,>=1.21.1 in /opt/conda/lib/python3.10/site-packages (from requests<3.0.0dev,>=2.18.0->google-api-core!=2.0.*,!=2.1.*,!=2.2.*,!=2.3.*,!=2.4.*,!=2.5.*,!=2.6.*,!=2.7.*,<3.0.0dev,>=1.34.1->google-api-core[grpc]!=2.0.*,!=2.1.*,!=2.2.*,!=2.3.*,!=2.4.*,!=2.5.*,!=2.6.*,!=2.7.*,<3.0.0dev,>=1.34.1->google-cloud-aiplatform) (1.26.18)\n",
      "Requirement already satisfied: certifi>=2017.4.17 in /opt/conda/lib/python3.10/site-packages (from requests<3.0.0dev,>=2.18.0->google-api-core!=2.0.*,!=2.1.*,!=2.2.*,!=2.3.*,!=2.4.*,!=2.5.*,!=2.6.*,!=2.7.*,<3.0.0dev,>=1.34.1->google-api-core[grpc]!=2.0.*,!=2.1.*,!=2.2.*,!=2.3.*,!=2.4.*,!=2.5.*,!=2.6.*,!=2.7.*,<3.0.0dev,>=1.34.1->google-cloud-aiplatform) (2024.2.2)\n",
      "Downloading PyMuPDF-1.24.4-cp310-none-manylinux2014_x86_64.whl (3.5 MB)\n",
      "\u001b[2K   \u001b[90m━━━━━━━━━━━━━━━━━━━━━━━━━━━━━━━━━━━━━━━━\u001b[0m \u001b[32m3.5/3.5 MB\u001b[0m \u001b[31m69.8 MB/s\u001b[0m eta \u001b[36m0:00:00\u001b[0m:00:01\u001b[0m\n",
      "\u001b[?25hDownloading PyMuPDFb-1.24.3-py3-none-manylinux2014_x86_64.manylinux_2_17_x86_64.whl (15.8 MB)\n",
      "\u001b[2K   \u001b[90m━━━━━━━━━━━━━━━━━━━━━━━━━━━━━━━━━━━━━━━━\u001b[0m \u001b[32m15.8/15.8 MB\u001b[0m \u001b[31m83.0 MB/s\u001b[0m eta \u001b[36m0:00:00\u001b[0m:00:01\u001b[0m00:01\u001b[0m\n",
      "\u001b[?25hInstalling collected packages: PyMuPDFb, pymupdf\n",
      "\u001b[33m  WARNING: The script pymupdf is installed in '/home/jupyter/.local/bin' which is not on PATH.\n",
      "  Consider adding this directory to PATH or, if you prefer to suppress this warning, use --no-warn-script-location.\u001b[0m\u001b[33m\n",
      "\u001b[0m\u001b[33m  WARNING: The script pymupdf is installed in '/home/jupyter/.local/bin' which is not on PATH.\n",
      "  Consider adding this directory to PATH or, if you prefer to suppress this warning, use --no-warn-script-location.\u001b[0m\u001b[33m\n",
      "\u001b[0mSuccessfully installed PyMuPDFb-1.24.3 pymupdf-1.24.4\n"
     ]
    }
   ],
   "source": [
    "# \"RUN THIS CELL AS IS\"\n",
    "\n",
    "# Install required python packages and other dependencies\n",
    "!pip3 install --upgrade --user google-cloud-aiplatform\n",
    "\n",
    "!pip3 install --upgrade --user google-cloud-aiplatform pymupdf"
   ]
  },
  {
   "cell_type": "markdown",
   "id": "245e8b96-1d74-4fee-903d-66e10ec82d46",
   "metadata": {},
   "source": [
    "### Restart current runtime\n",
    "\n",
    "You must restart the runtime in order to use the newly installed packages in this Jupyter runtime. You can do this by running the cell below, which will restart the current kernel.\n"
   ]
  },
  {
   "cell_type": "code",
   "execution_count": 2,
   "id": "864cef62-bfea-4843-b2a3-0b19bc00a0df",
   "metadata": {
    "tags": []
   },
   "outputs": [
    {
     "data": {
      "text/plain": [
       "{'status': 'ok', 'restart': True}"
      ]
     },
     "execution_count": 2,
     "metadata": {},
     "output_type": "execute_result"
    }
   ],
   "source": [
    "# \"RUN THIS CELL AS IS\"\n",
    "\n",
    "import IPython\n",
    "\n",
    "# Restart the kernet after libraries are loaded.\n",
    "\n",
    "app = IPython.Application.instance()\n",
    "app.kernel.do_shutdown(True)\n"
   ]
  },
  {
   "cell_type": "markdown",
   "id": "92ea66ce-c9a5-478b-b95d-7900488d1960",
   "metadata": {},
   "source": [
    "<div class=\"alert alert-block alert-warning\">\n",
    "<b>⚠️ The kernel is going to restart. Please wait until it is finished before continuing to the next step. ⚠️</b>\n",
    "</div>"
   ]
  },
  {
   "cell_type": "markdown",
   "id": "84e078e2-2891-42ed-95f7-ce31795045d0",
   "metadata": {},
   "source": [
    "### Define Google Cloud project information"
   ]
  },
  {
   "cell_type": "code",
   "execution_count": 1,
   "id": "d81ca78d-1320-49dd-8c43-3d5608f47c61",
   "metadata": {
    "tags": []
   },
   "outputs": [
    {
     "name": "stdout",
     "output_type": "stream",
     "text": [
      "Your project ID is: qwiklabs-gcp-00-7496df186107\n"
     ]
    }
   ],
   "source": [
    "# \"COMPLETE THE MISSING PART AND RUN THIS CELL\"\n",
    "\n",
    "import sys\n",
    "\n",
    "# Define project information and update the location if it differs from the one specified in the lab instructions.\n",
    "PROJECT_ID = \"qwiklabs-gcp-00-7496df186107\"  # @param {type:\"string\"}\n",
    "LOCATION = \"us-east4\"  # @param {type:\"string\"}\n",
    "\n",
    "# Try to get the PROJECT_ID automatically.\n",
    "if \"google.colab\" not in sys.modules:\n",
    "    import subprocess\n",
    "\n",
    "    PROJECT_ID = subprocess.check_output(\n",
    "        [\"gcloud\", \"config\", \"get-value\", \"project\"], text=True\n",
    "    ).strip()\n",
    "\n",
    "print(f\"Your project ID is: {PROJECT_ID}\")\n"
   ]
  },
  {
   "cell_type": "markdown",
   "id": "48216434",
   "metadata": {},
   "source": [
    "### Initialize Vertex AI\n",
    "\n",
    "Initialize the Vertex AI SDK for Python for your project:"
   ]
  },
  {
   "cell_type": "code",
   "execution_count": 2,
   "id": "4f5ded7d-13b9-42ff-87dc-0b5c998f884f",
   "metadata": {
    "tags": []
   },
   "outputs": [],
   "source": [
    "# \"RUN THIS CELL AS IS\"\n",
    "\n",
    "# Initialize Vertex AI.\n",
    "import vertexai\n",
    "\n",
    "vertexai.init(project=PROJECT_ID, location=LOCATION)\n"
   ]
  },
  {
   "cell_type": "markdown",
   "id": "cb712712-c7fb-43ef-be19-2497d610111c",
   "metadata": {},
   "source": [
    "## Task 1. Generating Multimodal Insights with the Gemini Pro Vision model\n",
    "\n",
    "Gemini 1.0 Pro Vision (gemini-1.0-pro-vision) is a multimodal model that supports multimodal prompts. You can include text, image(s), and video in your prompt requests and get text or code responses.\n",
    "\n",
    "To complete Task 1, follow the instructions at the top of each notebook cell:\n",
    "* Run the cells with the comment \"RUN THIS CELL AS IS\".\n",
    "* Complete and run the cells with the comment \"COMPLETE THE MISSING PART AND RUN THIS CELL\".\n",
    "\n",
    "__Note__: Ensure you can see the weather related data in the response that is printed.\n",
    "\n",
    "\n",
    "### Setup and requirements for Task 1\n",
    "\n",
    "#### Import libraries"
   ]
  },
  {
   "cell_type": "code",
   "execution_count": 3,
   "id": "85d32222-695d-4993-bdc4-fde7bc7948f1",
   "metadata": {
    "tags": []
   },
   "outputs": [],
   "source": [
    "# \"RUN THIS CELL AS IS\"\n",
    "\n",
    "from vertexai.generative_models import (\n",
    "    GenerationConfig,\n",
    "    GenerativeModel,\n",
    "    Image,\n",
    "    Part,\n",
    ")"
   ]
  },
  {
   "cell_type": "markdown",
   "id": "435fad59-d08b-4aef-8230-7f567643ce14",
   "metadata": {},
   "source": [
    "#### Load Gemini 1.0 Pro Vision model"
   ]
  },
  {
   "cell_type": "code",
   "execution_count": 4,
   "id": "dd63f204-6acc-41aa-ac25-45544d5c3888",
   "metadata": {
    "tags": []
   },
   "outputs": [],
   "source": [
    "# \"RUN THIS CELL AS IS\"\n",
    "\n",
    "multimodal_model = GenerativeModel(\"gemini-1.0-pro-vision\")"
   ]
  },
  {
   "cell_type": "markdown",
   "id": "e0c3a051-d567-4146-b428-fcb285c6485d",
   "metadata": {},
   "source": [
    "#### Define helper functions"
   ]
  },
  {
   "cell_type": "code",
   "execution_count": 5,
   "id": "e8de36ca-ded6-46e4-99e9-4ed2fc88ee8b",
   "metadata": {
    "tags": []
   },
   "outputs": [],
   "source": [
    "# \"RUN THIS CELL AS IS\"\n",
    "\n",
    "import http.client\n",
    "import typing\n",
    "import urllib.request\n",
    "\n",
    "import IPython.display\n",
    "from PIL import Image as PIL_Image\n",
    "from PIL import ImageOps as PIL_ImageOps\n",
    "\n",
    "\n",
    "def display_images(\n",
    "    images: typing.Iterable[Image],\n",
    "    max_width: int = 600,\n",
    "    max_height: int = 350,\n",
    ") -> None:\n",
    "    for image in images:\n",
    "        pil_image = typing.cast(PIL_Image.Image, image._pil_image)\n",
    "        if pil_image.mode != \"RGB\":\n",
    "            # RGB is supported by all Jupyter environments (e.g. RGBA is not yet)\n",
    "            pil_image = pil_image.convert(\"RGB\")\n",
    "        image_width, image_height = pil_image.size\n",
    "        if max_width < image_width or max_height < image_height:\n",
    "            # Resize to display a smaller notebook image\n",
    "            pil_image = PIL_ImageOps.contain(pil_image, (max_width, max_height))\n",
    "        IPython.display.display(pil_image)\n",
    "\n",
    "\n",
    "def get_image_bytes_from_url(image_url: str) -> bytes:\n",
    "    with urllib.request.urlopen(image_url) as response:\n",
    "        response = typing.cast(http.client.HTTPResponse, response)\n",
    "        image_bytes = response.read()\n",
    "    return image_bytes\n",
    "\n",
    "\n",
    "def load_image_from_url(image_url: str) -> Image:\n",
    "    image_bytes = get_image_bytes_from_url(image_url)\n",
    "    return Image.from_bytes(image_bytes)\n",
    "\n",
    "\n",
    "def display_content_as_image(content: str | Image | Part) -> bool:\n",
    "    if not isinstance(content, Image):\n",
    "        return False\n",
    "    display_images([content])\n",
    "    return True\n",
    "\n",
    "\n",
    "def display_content_as_video(content: str | Image | Part) -> bool:\n",
    "    if not isinstance(content, Part):\n",
    "        return False\n",
    "    part = typing.cast(Part, content)\n",
    "    file_path = part.file_data.file_uri.removeprefix(\"gs://\")\n",
    "    video_url = f\"https://storage.googleapis.com/{file_path}\"\n",
    "    IPython.display.display(IPython.display.Video(video_url, width=600))\n",
    "    return True\n",
    "\n",
    "\n",
    "def print_multimodal_prompt(contents: list[str | Image | Part]):\n",
    "    \"\"\"\n",
    "    Given contents that would be sent to Gemini,\n",
    "    output the full multimodal prompt for ease of readability.\n",
    "    \"\"\"\n",
    "    for content in contents:\n",
    "        if display_content_as_image(content):\n",
    "            continue\n",
    "        if display_content_as_video(content):\n",
    "            continue\n",
    "        print(content)"
   ]
  },
  {
   "cell_type": "markdown",
   "id": "ea68bb17-db90-437a-89b1-d1fe1d2e715f",
   "metadata": {},
   "source": [
    "### Task 1.1. Image understanding across multiple images"
   ]
  },
  {
   "cell_type": "code",
   "execution_count": 6,
   "id": "1bcae938-8299-4641-87d9-d78c3dc88ac5",
   "metadata": {
    "tags": []
   },
   "outputs": [],
   "source": [
    "# \"RUN THIS CELL AS IS\"\n",
    "\n",
    "# You're going to work with provided variables in this task. \n",
    "# First, review and describe the content/purpose of each variable below. \n",
    "\n",
    "image_ask_first_1_url = \"https://storage.googleapis.com/spls/gsp520/Google_Branding/Ask_first_1.png\"\n",
    "image_dont_do_this_1_url = \"https://storage.googleapis.com/spls/gsp520/Google_Branding/Dont_do_this_1.png\"\n",
    "image_ask_first_1 = load_image_from_url(image_ask_first_1_url)\n",
    "image_dont_do_this_1 = load_image_from_url(image_dont_do_this_1_url)\n",
    "\n",
    "instructions = \"Instructions: Consider the following image that contains text:\"\n",
    "prompt1 = \"What is the title of this image\"\n",
    "prompt2 = \"\"\"\n",
    "Answer the question through these steps:\n",
    "Step 1: Identify the title of each image by using the filename of each image.\n",
    "Step 2: Describe the image.\n",
    "Step 3: For each image, describe the actions that a user is expected to take.\n",
    "Step 4: Extract the text from each image as a full sentence.\n",
    "Step 5: Describe the sentiment for each image with an explanation.\n",
    "\n",
    "Answer and describe the steps taken:\n",
    "\"\"\""
   ]
  },
  {
   "cell_type": "markdown",
   "id": "867dc55c",
   "metadata": {},
   "source": [
    "#### Create an input for the multimodal model"
   ]
  },
  {
   "cell_type": "code",
   "execution_count": 7,
   "id": "e390c4b4",
   "metadata": {
    "tags": []
   },
   "outputs": [],
   "source": [
    "# \"COMPLETE THE MISSING PART AND RUN THIS CELL\"\n",
    "\n",
    "# Now, you're going to create an input for your multimodal model. Create your contents list using the variables above. Ensure the structure matches the format expected by the multimodal model.\n",
    "\n",
    "contents = [\n",
    "    instructions,\n",
    "    image_ask_first_1,\n",
    "    prompt1,\n",
    "    image_dont_do_this_1,\n",
    "    prompt2,\n",
    "]\n"
   ]
  },
  {
   "cell_type": "markdown",
   "id": "ac4aad87",
   "metadata": {},
   "source": [
    "#### Generate responses from the multimodal model"
   ]
  },
  {
   "cell_type": "code",
   "execution_count": 8,
   "id": "7156c265",
   "metadata": {
    "tags": []
   },
   "outputs": [],
   "source": [
    "# \"COMPLETE THE MISSING PART AND RUN THIS CELL\"\n",
    "\n",
    "# In the next part of this task, you're going to generate responses from the multimodal model. Capture the output of the model in the \"responses\" variable by using your \"contents\" list.\n",
    "\n",
    "\n",
    "responses = multimodal_model.generate_content(contents, stream=True)"
   ]
  },
  {
   "cell_type": "markdown",
   "id": "a28025b0",
   "metadata": {},
   "source": [
    "#### Display the prompt and responses\n"
   ]
  },
  {
   "cell_type": "code",
   "execution_count": 9,
   "id": "dc92127e",
   "metadata": {
    "tags": []
   },
   "outputs": [
    {
     "name": "stdout",
     "output_type": "stream",
     "text": [
      "-------Prompt-------\n",
      "Instructions: Consider the following image that contains text:\n"
     ]
    },
    {
     "data": {
      "image/jpeg": "[encoded data removed]",
      "image/png": "[encoded data removed]",
      "text/plain": [
       "<PIL.Image.Image image mode=RGB size=328x350>"
      ]
     },
     "metadata": {},
     "output_type": "display_data"
    },
    {
     "name": "stdout",
     "output_type": "stream",
     "text": [
      "What is the title of this image\n"
     ]
    },
    {
     "data": {
      "image/jpeg": "[encoded data removed]",
      "image/png": "[encoded data removed]",
      "text/plain": [
       "<PIL.Image.Image image mode=RGB size=328x350>"
      ]
     },
     "metadata": {},
     "output_type": "display_data"
    },
    {
     "name": "stdout",
     "output_type": "stream",
     "text": [
      "\n",
      "Answer the question through these steps:\n",
      "Step 1: Identify the title of each image by using the filename of each image.\n",
      "Step 2: Describe the image.\n",
      "Step 3: For each image, describe the actions that a user is expected to take.\n",
      "Step 4: Extract the text from each image as a full sentence.\n",
      "Step 5: Describe the sentiment for each image with an explanation.\n",
      "\n",
      "Answer and describe the steps taken:\n",
      "\n",
      "\n",
      "-------Response-------\n",
      " **Image 1**\n",
      "**Title:** systemerger-icon-usage-guidelines.png\n",
      "**Description:** The image is a screenshot of a web page. The page has a blue background with a white header and footer. The header contains the Systemerger logo and the text \"Merge your system workflow to make your job easier.\" The footer contains the text \"Refer to our icon usage guidelines to see whether you can use certain product icons in association with your business.\" The body of the page contains three paragraphs of text. The first paragraph explains what Systemerger is and how it can help businesses. The second paragraph provides tips on how to use Systemerger effectively. The third paragraph lists the benefits of using Systemerger.\n",
      "**Actions:** The user is expected to read the text on the page and then click on the link to the icon usage guidelines.\n",
      "**Text:** Merge your system workflow to make your job easier.\n",
      "**Sentiment:** The sentiment of the image is positive. The image is trying to promote Systemerger and its benefits.\n",
      "\n",
      "**Image 2**\n",
      "**Title:** franks-crab-shack-dont-imply-endorsement.png\n",
      "**Description:** The image is a screenshot of a web page. The page has a white background with a blue header and footer. The header contains the Frank's Crab Shack logo and the text \"#1 Crab Restaurant in Northeastern Maine on Google.\" The footer contains the text \"Don't imply endorsement.\" The body of the page contains one paragraph of text. The paragraph explains that businesses should not use the Google logo or any of Google's brand elements in any way that implies affiliation, endorsement, or sponsorship where such a relationship does not exist.\n",
      "**Actions:** The user is expected to read the text on the page and then comply with the request not to imply endorsement.\n",
      "**Text:** Don't imply endorsement.\n",
      "**Sentiment:** The sentiment of the image is negative. The image is trying to prevent businesses from using Google's brand elements in a misleading way."
     ]
    }
   ],
   "source": [
    "# \"COMPLETE THE MISSING PART AND RUN THIS CELL\"\n",
    "\n",
    "# In the last part of this task, you're going to print your contents and responses with the prompt and responses title provided. Use descriptive titles to help organize the output (e.g., \"Prompts\", \"Model Responses\") and then display the prompt and responses by using the print() function. \n",
    "\n",
    "# Hint: \"\\n\" inserts a newline character for clearer separation between the sections.\n",
    "\n",
    "\n",
    "print(\"-------Prompt-------\")\n",
    "print_multimodal_prompt(contents)\n",
    "\n",
    "print(\"\\n-------Response-------\")\n",
    "for response in responses:\n",
    "    print(response.text, end=\"\")"
   ]
  },
  {
   "cell_type": "markdown",
   "id": "0527c725-e400-4838-991b-33cd0772e450",
   "metadata": {
    "tags": []
   },
   "source": [
    "### To verify your work for Task 1.1, click __Check my progress__ in the lab instructions."
   ]
  },
  {
   "cell_type": "markdown",
   "id": "fa5b2269-4982-4c77-85b7-b6413b17f293",
   "metadata": {},
   "source": [
    "### Task 1.2. Similarity/Differences between images\n",
    "\n",
    "#### Explore the variables of the task"
   ]
  },
  {
   "cell_type": "code",
   "execution_count": 10,
   "id": "323aa40f-18dd-4454-a9f1-474d4c4c721b",
   "metadata": {
    "tags": []
   },
   "outputs": [],
   "source": [
    "# \"RUN THIS CELL AS IS\"\n",
    "\n",
    "# You're going to work with provided variables in this task. First, review and describe the content/purpose of each variable below. \n",
    "\n",
    "\n",
    "image_ask_first_3_url = \"https://storage.googleapis.com/spls/gsp520/Google_Branding/Ask_first_3.png\"\n",
    "image_dont_do_this_3_url =  \"https://storage.googleapis.com/spls/gsp520/Google_Branding/Dont_do_this_3.png\"\n",
    "image_ask_first_3 = load_image_from_url(image_ask_first_3_url)\n",
    "image_dont_do_this_3 = load_image_from_url(image_dont_do_this_3_url)\n",
    "\n",
    "prompt1 = \"\"\"\n",
    "Consider the following two images:\n",
    "Image 1:\n",
    "\"\"\"\n",
    "prompt2 = \"\"\"\n",
    "Image 2:\n",
    "\"\"\"\n",
    "prompt3 = \"\"\"\n",
    "1. What is shown in Image 1 and Image 2?\n",
    "2. What is similar between the two images?\n",
    "3. What is difference between Image 1 and Image 2 in terms of the text ?\n",
    "\"\"\"\n",
    "\n"
   ]
  },
  {
   "cell_type": "markdown",
   "id": "a5bb6c29",
   "metadata": {},
   "source": [
    "#### Create an input for the multimodal model"
   ]
  },
  {
   "cell_type": "code",
   "execution_count": 11,
   "id": "420a9d34",
   "metadata": {
    "tags": []
   },
   "outputs": [],
   "source": [
    "# \"COMPLETE THE MISSING PART AND RUN THIS CELL\"\n",
    "\n",
    "# Now, you're going to create an input for your multimodal model. Create your contents list using the variables above. Ensure the structure matches the format expected by the multimodal model.\n",
    "\n",
    "contents = [prompt1, image_ask_first_3, prompt2, image_dont_do_this_3, prompt3]"
   ]
  },
  {
   "cell_type": "markdown",
   "id": "68eaa88b",
   "metadata": {},
   "source": [
    "#### Set configuration parameters"
   ]
  },
  {
   "cell_type": "code",
   "execution_count": 12,
   "id": "3bdc9ef8",
   "metadata": {
    "tags": []
   },
   "outputs": [],
   "source": [
    "# \"COMPLETE THE MISSING PART AND RUN THIS CELL\"\n",
    "\n",
    "# Now, you're going to set configuration parameters that will influence how the multimodal model generates text. These settings control aspects like the creativity and focus of the responses. Here's how:\n",
    "# Temperature: Controls randomness. Lower values mean more predictable results, higher values mean more surprising and creative outpu\n",
    "# Top p / Top k: Affects how the model chooses words. Explore different values to see how they change the results.\n",
    "# Other parameters: Check the model's documentation for additional options you might want to adjust.\n",
    "\n",
    "# Store your configuration parameters in a generation_config variable. This improves reusability, allowing you to easily apply the same settings across tasks and make adjustments as needed.\n",
    "\n",
    "generation_config = GenerationConfig(\n",
    "    temperature=0.0,\n",
    "    top_p=0.8,\n",
    "    top_k=40,\n",
    "    candidate_count=1,\n",
    "    max_output_tokens=2048,\n",
    ")\n"
   ]
  },
  {
   "cell_type": "markdown",
   "id": "a78eecbb",
   "metadata": {
    "tags": []
   },
   "source": [
    "#### Generate responses from the multimodal model\n"
   ]
  },
  {
   "cell_type": "code",
   "execution_count": 13,
   "id": "74696b35",
   "metadata": {
    "tags": []
   },
   "outputs": [],
   "source": [
    "# \"COMPLETE THE MISSING PART AND RUN THIS CELL\"\n",
    "\n",
    "# In the next part of this task, you're going to generate responses from a multimodal model. capture the output of the model in the \"responses\" variable by using your \"contents\" list and the confiuguration settings.\n",
    "\n",
    "\n",
    "responses = multimodal_model.generate_content(\n",
    "    contents,\n",
    "    generation_config=generation_config,\n",
    "    stream=True,\n",
    ")\n"
   ]
  },
  {
   "cell_type": "markdown",
   "id": "16501a73",
   "metadata": {},
   "source": [
    "#### Display the prompt and responses"
   ]
  },
  {
   "cell_type": "code",
   "execution_count": 14,
   "id": "28236144",
   "metadata": {
    "tags": []
   },
   "outputs": [
    {
     "name": "stdout",
     "output_type": "stream",
     "text": [
      "-------Prompt-------\n",
      "\n",
      "Consider the following two images:\n",
      "Image 1:\n",
      "\n"
     ]
    },
    {
     "data": {
      "image/jpeg": "[encoded data removed]",
      "image/png": "[encoded data removed]",
      "text/plain": [
       "<PIL.Image.Image image mode=RGB size=320x350>"
      ]
     },
     "metadata": {},
     "output_type": "display_data"
    },
    {
     "name": "stdout",
     "output_type": "stream",
     "text": [
      "\n",
      "Image 2:\n",
      "\n"
     ]
    },
    {
     "data": {
      "image/jpeg": "[encoded data removed]",
      "image/png": "[encoded data removed]",
      "text/plain": [
       "<PIL.Image.Image image mode=RGB size=322x350>"
      ]
     },
     "metadata": {},
     "output_type": "display_data"
    },
    {
     "name": "stdout",
     "output_type": "stream",
     "text": [
      "\n",
      "1. What is shown in Image 1 and Image 2?\n",
      "2. What is similar between the two images?\n",
      "3. What is difference between Image 1 and Image 2 in terms of the text ?\n",
      "\n",
      "\n",
      "-------Response-------\n",
      " 1. Image 1 is a screenshot of a web page that shows the logo of the Wishawken Public Library and the words \"Grow with Google Partner\". \n",
      "Image 2 is a screenshot of a web page that shows the logo of the company \"Finder.ly\" and the words \"Don't imitate our logo or visual identity\".\n",
      "\n",
      "\n",
      "2. Both images are related to Google.\n",
      "\n",
      "\n",
      "3. The text in Image 1 is \"Sponsorships and partnerships. If you have an existing sponsorship deal or business relationship with Google, reach out to your Google contact to submit your request internally for review.\" \n",
      "The text in Image 2 is \"Don't imitate our logo or visual identity (distinctive color combinations, graphic designs, product icons, or imagery associated with Google).\""
     ]
    }
   ],
   "source": [
    "# \"COMPLETE THE MISSING PART AND RUN THIS CELL\"\n",
    "\n",
    "# In the last part of this task, you're going to print your contents and responses with the prompt and responses title provided. Use descriptive titles to help organize the output (e.g., \"Prompts\", \"Model Responses\") and then display the prompt and responses by using the print() function. \n",
    "\n",
    "# Hint: \"\\n\" inserts a newline character for clearer separation between the sections.\n",
    "\n",
    "print(\"-------Prompt-------\")\n",
    "print_multimodal_prompt(contents)\n",
    "\n",
    "print(\"\\n-------Response-------\")\n",
    "for response in responses:\n",
    "    print(response.text, end=\"\")"
   ]
  },
  {
   "cell_type": "markdown",
   "id": "c8ab2ba5-7789-43ff-aaea-88cfcb75a4f9",
   "metadata": {},
   "source": [
    "### To verify your work for Task 1.2, click __Check my progress__ in the lab instructions."
   ]
  },
  {
   "cell_type": "markdown",
   "id": "f815778c-aee0-4c3d-9d98-445ec693b18a",
   "metadata": {},
   "source": [
    "### Task 1.3. Generate a video description\n",
    "\n",
    "#### Explore the variables of the task\n"
   ]
  },
  {
   "cell_type": "code",
   "execution_count": 15,
   "id": "90071041-d4c0-4bf2-a783-853dadaa3dca",
   "metadata": {
    "tags": []
   },
   "outputs": [],
   "source": [
    "# \"RUN THIS CELL AS IS\"\n",
    "\n",
    "# You're going to work with provided variables in this task. \n",
    "# First, review and describe the content/purpose of each variable below. \n",
    "\n",
    "\n",
    "prompt = \"\"\"\n",
    "What is the product shown in this video?\n",
    "What specific product features are highlighted in the video?\n",
    "Where was this video filmed? Which cities around the world could potentially serve as the background in the video?\n",
    "What is the sentiment of the video?\n",
    "\"\"\"\n",
    "video = Part.from_uri(\n",
    "    uri=\"gs://spls/gsp520/google-pixel-8-pro.mp4\",\n",
    "    mime_type=\"video/mp4\",\n",
    ")"
   ]
  },
  {
   "cell_type": "markdown",
   "id": "f19c1b8b",
   "metadata": {},
   "source": [
    "#### Create an input for the multimodal model"
   ]
  },
  {
   "cell_type": "code",
   "execution_count": 16,
   "id": "8b12f7b5",
   "metadata": {
    "tags": []
   },
   "outputs": [],
   "source": [
    "# \"COMPLETE THE MISSING PART AND RUN THIS CELL\"\n",
    "\n",
    "# Now, you're going to create an input for your multimodal model. Create your contents list using the variables above. Ensure the structure matches the format expected by the multimodal model.\n",
    "\n",
    "contents = [prompt, video]"
   ]
  },
  {
   "cell_type": "markdown",
   "id": "a9f4971b",
   "metadata": {},
   "source": [
    "#### Generate responses from the multimodal model"
   ]
  },
  {
   "cell_type": "code",
   "execution_count": 17,
   "id": "17e1a6e9",
   "metadata": {
    "tags": []
   },
   "outputs": [],
   "source": [
    "# \"COMPLETE THE MISSING PART AND RUN THIS CELL\"\n",
    "\n",
    "# In the next part of this task, you're going to generate responses from a multimodal model. Capture the output of the model in the \"responses\" variable by using your \"contents\" list.\n",
    "\n",
    "\n",
    "responses = multimodal_model.generate_content(contents, stream=True)"
   ]
  },
  {
   "cell_type": "markdown",
   "id": "7fa2d51f",
   "metadata": {},
   "source": [
    "#### Display the prompt and responses\n",
    "\n",
    "**Note:** If you encounter any authentication error below cell run, go to the **Navigation menu**, click **Vertex AI > Dashboard**, then click **\"Enable all Recommended APIs\"** Now, go back to cell 16, and run cells 16, 17 and below cell."
   ]
  },
  {
   "cell_type": "code",
   "execution_count": 18,
   "id": "ef32b772",
   "metadata": {
    "tags": []
   },
   "outputs": [
    {
     "name": "stdout",
     "output_type": "stream",
     "text": [
      "-------Prompt-------\n",
      "\n",
      "What is the product shown in this video?\n",
      "What specific product features are highlighted in the video?\n",
      "Where was this video filmed? Which cities around the world could potentially serve as the background in the video?\n",
      "What is the sentiment of the video?\n",
      "\n"
     ]
    },
    {
     "data": {
      "text/html": [
       "<video src=\"https://storage.googleapis.com/spls/gsp520/google-pixel-8-pro.mp4\" controls  width=\"600\" >\n",
       "      Your browser does not support the <code>video</code> element.\n",
       "    </video>"
      ],
      "text/plain": [
       "<IPython.core.display.Video object>"
      ]
     },
     "metadata": {},
     "output_type": "display_data"
    },
    {
     "name": "stdout",
     "output_type": "stream",
     "text": [
      "\n",
      "-------Response-------\n",
      " The product shown in the video is the Google Pixel 8 Pro.\n",
      "\n",
      "The specific product features highlighted in the video are:\n",
      "\n",
      "* The phone's AI capabilities, which are showcased through the features \"Magic Eraser,\" which allows users to remove unwanted objects from photos, and \"Real Tone,\" which helps to ensure that photos of people of color are accurate and realistic.\n",
      "* The phone's camera, which is highlighted through the ability to take high-quality photos and videos, even in low-light conditions.\n",
      "* The phone's design, which is sleek and modern.\n",
      "\n",
      "The video was filmed in London, England. Other cities around the world that could potentially serve as the background in the video include New York City, Tokyo, and Paris.\n",
      "\n",
      "The sentiment of the video is positive and upbeat. The video highlights the fun and exciting features of the Google Pixel 8 Pro, and it encourages viewers to purchase the phone."
     ]
    }
   ],
   "source": [
    "# \"COMPLETE THE MISSING PART AND RUN THIS CELL\"\n",
    "\n",
    "# In the last part of this task, you're going to print your contents and responses with the prompt and responses title provided. Use descriptive titles to help organize the output (e.g., \"Prompts\", \"Model Responses\") and then display the prompt and responses by using the print() function. \n",
    "\n",
    "# Hint: \"\\n\" inserts a newline character for clearer separation between the sections.\n",
    "\n",
    "print(\"-------Prompt-------\")\n",
    "print_multimodal_prompt(contents)\n",
    "\n",
    "print(\"\\n-------Response-------\")\n",
    "for response in responses:\n",
    "    print(response.text, end=\"\")"
   ]
  },
  {
   "cell_type": "markdown",
   "id": "0b4574b5-8ae4-4212-85d7-badc66e9d3df",
   "metadata": {},
   "source": [
    "Proceed to Task 1.4 below (no progress check for Task 1.3 in lab instructions). \n",
    "\n",
    "### Task 1.4. Extract tags of objects throughout the video\n",
    "\n",
    "#### Explore the variables of the task"
   ]
  },
  {
   "cell_type": "code",
   "execution_count": 19,
   "id": "69b54344-7190-46a4-877f-c9c9f7daa7a8",
   "metadata": {
    "tags": []
   },
   "outputs": [],
   "source": [
    "# \"COMPLETE THE MISSING PART AND RUN THIS CELL\"\n",
    "\n",
    "# You're going to work with provided variables in this task. First, review and describe the content/purpose of each variable below. \n",
    "\n",
    "prompt = \"\"\"\n",
    "Answer the following questions using the video only:\n",
    "\n",
    "Which particular sport is highlighted in the video?\n",
    "What values or beliefs does the advertisement communicate about the brand?\n",
    "What emotions or feelings does the advertisement evoke in the audience?\n",
    "Which tags associated with objects featured throughout the video could be extracted?\n",
    "\"\"\"\n",
    "video = Part.from_uri(\n",
    "    uri=\"gs://spls/gsp520/google-pixel-8-pro.mp4\",\n",
    "    mime_type=\"video/mp4\",\n",
    ")"
   ]
  },
  {
   "cell_type": "markdown",
   "id": "2885e5bb",
   "metadata": {},
   "source": [
    "#### Create an input for the multimodal model"
   ]
  },
  {
   "cell_type": "code",
   "execution_count": 20,
   "id": "ab39bda2",
   "metadata": {
    "tags": []
   },
   "outputs": [],
   "source": [
    "# \"COMPLETE THE MISSING PART AND RUN THIS CELL\"\n",
    "\n",
    "# Now, you're going to create an input for your multimodal model. Create your contents list using the variables above. Ensure the structure matches the format expected by the multimodal model.\n",
    "\n",
    "contents = [prompt, video]"
   ]
  },
  {
   "cell_type": "markdown",
   "id": "ce38fe28",
   "metadata": {},
   "source": [
    "#### Generate responses from the multimodal model"
   ]
  },
  {
   "cell_type": "code",
   "execution_count": 21,
   "id": "442a83c5",
   "metadata": {
    "tags": []
   },
   "outputs": [],
   "source": [
    "# \"COMPLETE THE MISSING PART AND RUN THIS CELL\"\n",
    "\n",
    "# In the next part of this task, you're going to generate responses from a multimodal model. capture the output of the model in the \"responses\" variable by using your \"contents\" list and video input.\n",
    "\n",
    "\n",
    "responses = multimodal_model.generate_content(contents, stream=True)"
   ]
  },
  {
   "cell_type": "markdown",
   "id": "b090def3",
   "metadata": {},
   "source": [
    "#### Display the prompt and responses"
   ]
  },
  {
   "cell_type": "code",
   "execution_count": 22,
   "id": "b6cba353",
   "metadata": {
    "tags": []
   },
   "outputs": [
    {
     "name": "stdout",
     "output_type": "stream",
     "text": [
      "-------Prompt-------\n",
      "\n",
      "Answer the following questions using the video only:\n",
      "\n",
      "Which particular sport is highlighted in the video?\n",
      "What values or beliefs does the advertisement communicate about the brand?\n",
      "What emotions or feelings does the advertisement evoke in the audience?\n",
      "Which tags associated with objects featured throughout the video could be extracted?\n",
      "\n"
     ]
    },
    {
     "data": {
      "text/html": [
       "<video src=\"https://storage.googleapis.com/spls/gsp520/google-pixel-8-pro.mp4\" controls  width=\"600\" >\n",
       "      Your browser does not support the <code>video</code> element.\n",
       "    </video>"
      ],
      "text/plain": [
       "<IPython.core.display.Video object>"
      ]
     },
     "metadata": {},
     "output_type": "display_data"
    },
    {
     "name": "stdout",
     "output_type": "stream",
     "text": [
      "\n",
      "-------Response-------\n",
      " - Basketball\n",
      "- The advertisement highlights the Google Pixel 8 Pro's camera features, showcasing its ability to capture clear and detailed photos and videos, even in low-light conditions and with fast-moving subjects.\n",
      "- The advertisement evokes feelings of excitement, energy, and fun, as it showcases the phone's capabilities in capturing life's moments.\n",
      "- basketball, hoop, court, friends, fun, energy, fast, action, photos, videos, camera, Google Pixel 8 Pro, technology, innovation, mobile, phone, smartphone, photography, videography, creativity, expression, life, moments, memories"
     ]
    }
   ],
   "source": [
    "# \"COMPLETE THE MISSING PART AND RUN THIS CELL\"\n",
    "\n",
    "# In the last part of this task, you're going to print your contents and responses with the prompt and responses title provided. Use descriptive titles to help organize the output (e.g., \"Prompts\", \"Model Responses\") and then display the prompt and responses by using the print() function. \n",
    "\n",
    "# Hint: \"\\n\" inserts a newline character for clearer separation between the sections.\n",
    "\n",
    "print(\"-------Prompt-------\")\n",
    "print_multimodal_prompt(contents)\n",
    "\n",
    "print(\"\\n-------Response-------\")\n",
    "for response in responses:\n",
    "    print(response.text, end=\"\")"
   ]
  },
  {
   "cell_type": "markdown",
   "id": "0932722c-fd8e-411a-a09e-ff1e530ba531",
   "metadata": {},
   "source": [
    "Proceed to Task 1.5 below (no progress check for Task 1.4 in lab instructions). \n",
    "\n",
    "### Task 1.5. Ask more questions about a video\n",
    "\n",
    "**Note:** Although this video contains audio, Gemini does not currently support audio input and will only answer based on the video.\n",
    "\n",
    "#### Explore the variables of the task"
   ]
  },
  {
   "cell_type": "code",
   "execution_count": 23,
   "id": "9c7d9b2e-f167-473e-8fce-65d677ec5ff9",
   "metadata": {
    "tags": []
   },
   "outputs": [],
   "source": [
    "# \"COMPLETE THE MISSING PART AND RUN THIS CELL\"\n",
    "\n",
    "# You're going to work with provided variables in this task. \n",
    "# First, review and describe the content/purpose of each variable below. \n",
    "\n",
    "\n",
    "prompt = \"\"\"\n",
    "Answer the following questions using the video only:\n",
    "\n",
    "How does the advertisement portray the use of technology, specifically AI, in capturing and preserving memories?\n",
    "What visual cues or storytelling elements contribute to the nostalgic atmosphere of the advertisement?\n",
    "How does the advertisement depict the role of friendship and social connections in enhancing experiences and creating memories?\n",
    "Are there any specific features or functionalities of the phone highlighted in the advertisement, besides its AI capabilities?\n",
    "\n",
    "Provide the answer JSON.\n",
    "\"\"\"\n",
    "video = Part.from_uri(\n",
    "    uri=\"gs://spls/gsp520/google-pixel-8-pro.mp4\",\n",
    "    mime_type=\"video/mp4\",\n",
    ")\n"
   ]
  },
  {
   "cell_type": "markdown",
   "id": "ae45d655",
   "metadata": {},
   "source": [
    "#### Create an input for the multimodal model"
   ]
  },
  {
   "cell_type": "code",
   "execution_count": 24,
   "id": "37f7cb3a",
   "metadata": {
    "tags": []
   },
   "outputs": [],
   "source": [
    "# \"COMPLETE THE MISSING PART AND RUN THIS CELL\"\n",
    "\n",
    "# Now, you're going to create an input for your multimodal model. Create your contents list using the variables above. Ensure the structure matches the format expected by the multimodal model.\n",
    "\n",
    "contents = [prompt, video]"
   ]
  },
  {
   "cell_type": "markdown",
   "id": "c61307a2",
   "metadata": {},
   "source": [
    "#### Generate responses from the multimodal model"
   ]
  },
  {
   "cell_type": "code",
   "execution_count": 25,
   "id": "6dea2a83",
   "metadata": {
    "tags": []
   },
   "outputs": [],
   "source": [
    "# \"COMPLETE THE MISSING PART AND RUN THIS CELL\"\n",
    "\n",
    "# In the next part of this task, you're going to generate responses from a multimodal model. capture the output of the model in the \"responses\" variable by using your \"contents\" list and video input.\n",
    "\n",
    "\n",
    "responses = multimodal_model.generate_content(contents, stream=True)"
   ]
  },
  {
   "cell_type": "markdown",
   "id": "987f77f7",
   "metadata": {},
   "source": [
    "#### Display the prompt and responses"
   ]
  },
  {
   "cell_type": "code",
   "execution_count": 26,
   "id": "d993e0c8",
   "metadata": {
    "tags": []
   },
   "outputs": [
    {
     "name": "stdout",
     "output_type": "stream",
     "text": [
      "-------Prompt-------\n",
      "\n",
      "Answer the following questions using the video only:\n",
      "\n",
      "How does the advertisement portray the use of technology, specifically AI, in capturing and preserving memories?\n",
      "What visual cues or storytelling elements contribute to the nostalgic atmosphere of the advertisement?\n",
      "How does the advertisement depict the role of friendship and social connections in enhancing experiences and creating memories?\n",
      "Are there any specific features or functionalities of the phone highlighted in the advertisement, besides its AI capabilities?\n",
      "\n",
      "Provide the answer JSON.\n",
      "\n"
     ]
    },
    {
     "data": {
      "text/html": [
       "<video src=\"https://storage.googleapis.com/spls/gsp520/google-pixel-8-pro.mp4\" controls  width=\"600\" >\n",
       "      Your browser does not support the <code>video</code> element.\n",
       "    </video>"
      ],
      "text/plain": [
       "<IPython.core.display.Video object>"
      ]
     },
     "metadata": {},
     "output_type": "display_data"
    },
    {
     "name": "stdout",
     "output_type": "stream",
     "text": [
      "\n",
      "-------Response-------\n",
      " ```json\n",
      "{\n",
      "  \"1\": {\n",
      "    \"question\": \"How does the advertisement portray the use of technology, specifically AI, in capturing and preserving memories?\",\n",
      "    \"answer\": \"The advertisement portrays the use of technology, specifically AI, in capturing and preserving memories by showing how the phone can be used to take photos and videos, and then use AI to edit and enhance them. For example, the advertisement shows how the phone can be used to take a photo of a group of friends, and then use AI to add a filter to the photo to make it look like a painting. The advertisement also shows how the phone can be used to take a video of a child playing, and then use AI to create a highlight reel of the video.\"\n",
      "  },\n",
      "  \"2\": {\n",
      "    \"question\": \"What visual cues or storytelling elements contribute to the nostalgic atmosphere of the advertisement?\",\n",
      "    \"answer\": \"The advertisement uses a variety of visual cues and storytelling elements to contribute to the nostalgic atmosphere of the advertisement. For example, the advertisement uses a warm color palette, which is often associated with nostalgia. The advertisement also uses a variety of slow-motion and time-lapse photography, which can also create a sense of nostalgia. Additionally, the advertisement uses a variety of music and sound effects that are often associated with nostalgia.\"\n",
      "  },\n",
      "  \"3\": {\n",
      "    \"question\": \"How does the advertisement depict the role of friendship and social connections in enhancing experiences and creating memories?\",\n",
      "    \"answer\": \"The advertisement depicts the role of friendship and social connections in enhancing experiences and creating memories by showing how the phone can be used to stay connected with friends and family. For example, the advertisement shows how the phone can be used to take photos and videos of friends and family, and then share them with others. The advertisement also shows how the phone can be used to make plans with friends and family, and to keep up with what they are doing.\"\n",
      "  },\n",
      "  \"4\": {\n",
      "    \"question\": \"Are there any specific features or functionalities of the phone highlighted in the advertisement, besides its AI capabilities?\",\n",
      "    \"answer\": \"Yes, the advertisement highlights a few specific features and functionalities of the phone, besides its AI capabilities. For example, the advertisement highlights the phone's camera, which is capable of taking high-quality photos and videos. The advertisement also highlights the phone's battery life, which is long-lasting. Additionally, the advertisement highlights the phone's storage capacity, which is large enough to store a lot of photos and videos.\"\n",
      "  }\n",
      "}\n",
      "```"
     ]
    }
   ],
   "source": [
    "# \"COMPLETE THE MISSING PART AND RUN THIS CELL\"\n",
    "\n",
    "# In the last part of this task, you're going to print your contents and responses with the prompt and responses title provided. Use descriptive titles to help organize the output (e.g., \"Prompts\", \"Model Responses\") and then display the prompt and responses by using the print() function. \n",
    "\n",
    "# Hint: \"\\n\" inserts a newline character for clearer separation between the sections.\n",
    "\n",
    "print(\"-------Prompt-------\")\n",
    "print_multimodal_prompt(contents)\n",
    "\n",
    "print(\"\\n-------Response-------\")\n",
    "for response in responses:\n",
    "    print(response.text, end=\"\")"
   ]
  },
  {
   "cell_type": "markdown",
   "id": "b238a1a4-7b7c-463f-af54-d853f1786b73",
   "metadata": {},
   "source": [
    "Proceed to Task 1.6 below (no progress check for Task 1.5 in lab instructions). \n",
    "\n",
    "### Task 1.6. Retrieve extra information beyond the video\n",
    "\n",
    "#### Explore the variables of the task"
   ]
  },
  {
   "cell_type": "code",
   "execution_count": 27,
   "id": "e1668408-6c55-460f-b687-5916b417ed85",
   "metadata": {
    "tags": []
   },
   "outputs": [],
   "source": [
    "# \"COMPLETE THE MISSING PART AND RUN THIS CELL\"\n",
    "\n",
    "# You're going to work with provided variables in this task. \n",
    "# First, review and describe the content/purpose of each variable below. \n",
    "\n",
    "\n",
    "prompt = \"\"\"\n",
    "Answer the following questions using the video only:\n",
    "\n",
    "How does the advertisement appeal to its target audience through its messaging and imagery?\n",
    "What overall message or takeaway does the advertisement convey about the brand and its products?\n",
    "Are there any symbolic elements or motifs used throughout the advertisement to reinforce its central themes?\n",
    "What is the best hashtag for this video based on the description ?\n",
    "\n",
    "\"\"\"\n",
    "video = Part.from_uri(\n",
    "    uri=\"gs://spls/gsp520/google-pixel-8-pro.mp4\",\n",
    "    mime_type=\"video/mp4\",\n",
    ")"
   ]
  },
  {
   "cell_type": "markdown",
   "id": "868429f1",
   "metadata": {},
   "source": [
    "#### Create an input for the multimodal model"
   ]
  },
  {
   "cell_type": "code",
   "execution_count": 28,
   "id": "3ec4cd5e",
   "metadata": {
    "tags": []
   },
   "outputs": [],
   "source": [
    "# \"COMPLETE THE MISSING PART AND RUN THIS CELL\"\n",
    "\n",
    "# Now, you're going to create an input for your multimodal model. Create your contents list using the variables above. Ensure the structure matches the format expected by the multimodal model.\n",
    "\n",
    "contents = [prompt, video]"
   ]
  },
  {
   "cell_type": "markdown",
   "id": "7b46261e",
   "metadata": {},
   "source": [
    "#### Generate responses from the multimodal model"
   ]
  },
  {
   "cell_type": "code",
   "execution_count": 29,
   "id": "65bb93f7",
   "metadata": {
    "tags": []
   },
   "outputs": [],
   "source": [
    "# \"COMPLETE THE MISSING PART AND RUN THIS CELL\"\n",
    "\n",
    "# In the next part of this task, you're going to generate responses from a multimodal model. capture the output of the model in the \"responses\" variable by using your \"contents\" list and video input.\n",
    "\n",
    "\n",
    "responses = multimodal_model.generate_content(contents, stream=True)"
   ]
  },
  {
   "cell_type": "markdown",
   "id": "aa426629",
   "metadata": {},
   "source": [
    "#### Display the prompt and responses"
   ]
  },
  {
   "cell_type": "code",
   "execution_count": 30,
   "id": "c492f1f0",
   "metadata": {
    "tags": []
   },
   "outputs": [
    {
     "name": "stdout",
     "output_type": "stream",
     "text": [
      "-------Prompt-------\n",
      "\n",
      "Answer the following questions using the video only:\n",
      "\n",
      "How does the advertisement appeal to its target audience through its messaging and imagery?\n",
      "What overall message or takeaway does the advertisement convey about the brand and its products?\n",
      "Are there any symbolic elements or motifs used throughout the advertisement to reinforce its central themes?\n",
      "What is the best hashtag for this video based on the description ?\n",
      "\n",
      "\n"
     ]
    },
    {
     "data": {
      "text/html": [
       "<video src=\"https://storage.googleapis.com/spls/gsp520/google-pixel-8-pro.mp4\" controls  width=\"600\" >\n",
       "      Your browser does not support the <code>video</code> element.\n",
       "    </video>"
      ],
      "text/plain": [
       "<IPython.core.display.Video object>"
      ]
     },
     "metadata": {},
     "output_type": "display_data"
    },
    {
     "name": "stdout",
     "output_type": "stream",
     "text": [
      "\n",
      "-------Response-------\n",
      " 1. The advertisement appeals to its target audience by featuring a diverse range of people using the phone in various everyday situations. The ad highlights the phone's features, such as the ability to take great photos and videos, edit photos, and stay connected with friends and family. The ad also emphasizes the phone's sleek design and durability.\n",
      "\n",
      "\n",
      "2. The overall message of the advertisement is that the Google Pixel 8 Pro is the perfect phone for anyone who wants a top-of-the-line smartphone. The ad highlights the phone's many features and benefits, and it shows how the phone can be used to improve people's lives.\n",
      "\n",
      "\n",
      "3. The advertisement uses several symbolic elements and motifs to reinforce its central themes. For example, the ad features a basketball player who is able to make a great shot thanks to the phone's camera. This symbolizes the phone's ability to help people achieve their goals. The ad also features a family who is able to stay connected with each other through the phone's video chat feature. This symbolizes the phone's ability to bring people together.\n",
      "\n",
      "\n",
      "4. The best hashtag for this video is #Pixel8Pro. This hashtag is already being used by people to discuss the phone, and it would help to increase the reach of the advertisement."
     ]
    }
   ],
   "source": [
    "# \"COMPLETE THE MISSING PART AND RUN THIS CELL\"\n",
    "\n",
    "# In the last part of this task, you're going to print your contents and responses with the prompt and responses title provided. Use descriptive titles to help organize the output (e.g., \"Prompts\", \"Model Responses\") and then display the prompt and responses by using the print() function. \n",
    "\n",
    "# Hint: \"\\n\" inserts a newline character for clearer separation between the sections.\n",
    "\n",
    "print(\"-------Prompt-------\")\n",
    "print_multimodal_prompt(contents)\n",
    "\n",
    "print(\"\\n-------Response-------\")\n",
    "for response in responses:\n",
    "    print(response.text, end=\"\")"
   ]
  },
  {
   "cell_type": "markdown",
   "id": "40f908d1-b54f-4d8d-993e-faec763d7a37",
   "metadata": {},
   "source": [
    "### To verify your work for Task 1.6, click __Check my progress__ in the lab instructions."
   ]
  },
  {
   "cell_type": "markdown",
   "id": "42950158-1e1f-40bd-97b4-d18474dd86fe",
   "metadata": {},
   "source": [
    "## Task 2. Retrieving and integrating knowledge with multimodal retrieval augmented generation (RAG)\n",
    "\n",
    "To complete Task 2, follow the instructions at the top of each notebook cell:\n",
    "* Run the cells with the comment \"RUN THIS CELL AS IS\".\n",
    "* Complete and run the cells with the comment \"COMPLETE THE MISSING PART AND RUN THIS CELL\".\n",
    "\n",
    "For additional information about the available data and helper functions for Task 2, review the section named __Available data and helper functions for Task 2__ in the lab instructions.\n",
    "\n",
    "### Setup and requirements for Task 2\n",
    "\n",
    "#### Import libraries"
   ]
  },
  {
   "cell_type": "code",
   "execution_count": 31,
   "id": "c106e655-0da7-4eba-8595-706622ab7ef3",
   "metadata": {
    "tags": []
   },
   "outputs": [],
   "source": [
    "# \"RUN THIS CELL AS IS\"\n",
    "\n",
    "# Import necessary packages and libraries.\n",
    "\n",
    "from IPython.display import Markdown, display\n",
    "from vertexai.generative_models import (\n",
    "    Content,\n",
    "    GenerationConfig,\n",
    "    GenerationResponse,\n",
    "    GenerativeModel,\n",
    "    HarmCategory,\n",
    "    HarmBlockThreshold,\n",
    "    Image,\n",
    "    Part,\n",
    ")\n"
   ]
  },
  {
   "cell_type": "markdown",
   "id": "860ce78c",
   "metadata": {},
   "source": [
    "#### Load the Gemini 1.0 Pro and Gemini 1.0 Pro Vision model"
   ]
  },
  {
   "cell_type": "code",
   "execution_count": 32,
   "id": "be19c04e-b7d2-4439-a0bd-58ffa0c1f2dc",
   "metadata": {
    "tags": []
   },
   "outputs": [],
   "source": [
    "# \"RUN THIS CELL AS IS\"\n",
    "\n",
    "# Load the Gemini 1.0 Pro and Gemini 1.0 Pro Vision model.\n",
    "\n",
    "text_model = GenerativeModel(\"gemini-1.0-pro\")\n",
    "multimodal_model = GenerativeModel(\"gemini-1.0-pro-vision\")"
   ]
  },
  {
   "cell_type": "markdown",
   "id": "bb962cea-0b31-43f6-b757-90bc1ff1cd5b",
   "metadata": {},
   "source": [
    "#### Download custom Python modules and utilities \n",
    "\n",
    "The cell below will download some helper functions needed for this notebook, to improve readability. You can also view the code (`intro_multimodal_rag_utils.py`) directly on [Github](https://raw.githubusercontent.com/GoogleCloudPlatform/generative-ai/main/gemini/use-cases/retrieval-augmented-generation/utils/intro_multimodal_rag_utils.py)."
   ]
  },
  {
   "cell_type": "code",
   "execution_count": 33,
   "id": "12aa75ac-3512-4ee2-a4b6-e8e926d19587",
   "metadata": {
    "tags": []
   },
   "outputs": [],
   "source": [
    "# \"RUN THIS CELL AS IS\"\n",
    "\n",
    "# Import necessary packages and libraries.\n",
    "import os\n",
    "import urllib.request\n",
    "import sys\n",
    "\n",
    "if not os.path.exists(\"utils\"):\n",
    "    os.makedirs(\"utils\")\n",
    "\n",
    "\n",
    "# Download the helper scripts from utils folder.\n",
    "url_prefix = \"https://raw.githubusercontent.com/GoogleCloudPlatform/generative-ai/main/gemini/use-cases/retrieval-augmented-generation/utils/\"\n",
    "files = [\"intro_multimodal_rag_utils.py\"]\n",
    "\n",
    "for fname in files:\n",
    "    urllib.request.urlretrieve(f\"{url_prefix}/{fname}\", filename=f\"utils/{fname}\")\n"
   ]
  },
  {
   "cell_type": "markdown",
   "id": "b3a4c367-585d-4e15-883d-ed0a674475f1",
   "metadata": {},
   "source": [
    "#### Get documents and images from Cloud Storage"
   ]
  },
  {
   "cell_type": "code",
   "execution_count": 34,
   "id": "b83f06b4-4e9c-449b-94f3-4175b37777c4",
   "metadata": {
    "tags": []
   },
   "outputs": [
    {
     "name": "stdout",
     "output_type": "stream",
     "text": [
      "Building synchronization state...\n",
      "Starting synchronization...\n",
      "Copying gs://spls/gsp520/Google_Branding/Dont_do_this_2.png...\n",
      "Copying gs://spls/gsp520/Google_Branding/Ask_first_2.png...                     \n",
      "Copying gs://spls/gsp520/Google_Branding/Ask_first_1.png...                     \n",
      "Copying gs://spls/gsp520/Google_Branding/.DS_Store...                           \n",
      "Copying gs://spls/gsp520/Google_Branding/Ask_first_3.png...                     \n",
      "Copying gs://spls/gsp520/Google_Branding/Go_for_it_1.png...                     \n",
      "Copying gs://spls/gsp520/Google_Branding/Dont_do_this_4.png...                  \n",
      "Copying gs://spls/gsp520/Google_Branding/Dont_do_this_1.png...                  \n",
      "Copying gs://spls/gsp520/Google_Branding/Dont_do_this_6.png...                  \n",
      "Copying gs://spls/gsp520/Google_Branding/Dont_do_this_3.png...                  \n",
      "Copying gs://spls/gsp520/Google_Branding/Dont_do_this_5.png...                  \n",
      "Copying gs://spls/gsp520/Google_Branding/Go_for_it_2.png...                     \n",
      "Copying gs://spls/gsp520/Google_Branding/Go_for_it_3.png...                     \n",
      "Copying gs://spls/gsp520/Google_Branding/Go_for_it_4.png...                     \n",
      "Copying gs://spls/gsp520/Google_Branding/Go_for_it_5.png...                     \n",
      "Copying gs://spls/gsp520/Google_Branding/Go_for_it_6.png...                     \n",
      "Copying gs://spls/gsp520/Google_Branding/Google_terms_of_service_en_us.pdf...   \n",
      "Copying gs://spls/gsp520/google-pixel-8-pro.mp4...                              \n",
      "\\ [18/18 files][ 10.8 MiB/ 10.8 MiB] 100% Done                                  \n",
      "Operation completed over 18 objects/10.8 MiB.                                    \n",
      "Download completed\n"
     ]
    }
   ],
   "source": [
    "# \"RUN THIS CELL AS IS\"\n",
    "\n",
    "# Download documents and images used in this notebook.\n",
    "\n",
    "!gsutil -m rsync -r gs://spls/gsp520 .\n",
    "print(\"Download completed\")"
   ]
  },
  {
   "cell_type": "markdown",
   "id": "43b72d16-d530-424b-934a-ebf091bc254c",
   "metadata": {},
   "source": [
    "### Task 2.1. Build metadata of documents containing text and images\n",
    "\n",
    "__Note__: These steps may take a few minutes to complete.\n",
    "\n",
    "#### Import helper functions to build metadata"
   ]
  },
  {
   "cell_type": "code",
   "execution_count": 35,
   "id": "442e1759-0c37-44ff-9f2b-85ee427e7f9d",
   "metadata": {
    "tags": []
   },
   "outputs": [],
   "source": [
    "# \"RUN THIS CELL AS IS\"\n",
    "\n",
    "# Import helper functions from utils.\n",
    "from utils.intro_multimodal_rag_utils import get_document_metadata"
   ]
  },
  {
   "cell_type": "markdown",
   "id": "2dcfd03c-9713-4621-b5e5-fee645d338e9",
   "metadata": {},
   "source": [
    "#### Explore the variables of the task"
   ]
  },
  {
   "cell_type": "code",
   "execution_count": 36,
   "id": "8c2b6d28-4d64-4e03-b395-23bd2c8b6bbc",
   "metadata": {
    "tags": []
   },
   "outputs": [],
   "source": [
    "# \"RUN THIS CELL AS IS\"\n",
    "\n",
    "# You're going to work with provided variables in this task. \n",
    "# First, review and describe the content/purpose of each variable below. \n",
    "\n",
    "\n",
    "# Specify the \"PDF folder path\" with single PDF and \"PDF folder\" with multiple PDF.\n",
    "\n",
    "pdf_folder_path = \"Google_Branding/\"  # if running in Vertex AI Workbench.\n",
    "\n",
    "# Specify the image description prompt. Change it\n",
    "image_description_prompt = \"\"\"Explain what is going on in the image.\n",
    "If it's a table, extract all elements of the table.\n",
    "If it's a graph, explain the findings in the graph.\n",
    "Do not include any numbers that are not mentioned in the image.\n",
    "\"\"\""
   ]
  },
  {
   "cell_type": "markdown",
   "id": "60611e48",
   "metadata": {},
   "source": [
    "\n",
    "#### Extract and store metadata of text and images from a document"
   ]
  },
  {
   "cell_type": "code",
   "execution_count": 37,
   "id": "ca9d2331",
   "metadata": {
    "tags": []
   },
   "outputs": [
    {
     "name": "stdout",
     "output_type": "stream",
     "text": [
      "\n",
      "\n",
      " Processing the file: --------------------------------- Google_Branding/Google_terms_of_service_en_us.pdf \n",
      "\n",
      "\n",
      "Processing page: 1\n",
      "Processing page: 2\n",
      "Processing page: 3\n",
      "Processing page: 4\n",
      "Processing page: 5\n",
      "Processing page: 6\n",
      "Processing page: 7\n",
      "Processing page: 8\n",
      "Processing page: 9\n",
      "Processing page: 10\n",
      "Processing page: 11\n",
      "Processing page: 12\n",
      "Processing page: 13\n",
      "Processing page: 14\n",
      "Processing page: 15\n",
      "Processing page: 16\n",
      "\n",
      "\n",
      " --- Completed processing. ---\n"
     ]
    }
   ],
   "source": [
    "# \"COMPLETE THE MISSING PART AND RUN THIS CELL\"\n",
    "\n",
    "# Call the \"get_document_metadata\" function from the utils file to extract text and image metadata from the PDF document. Store the results in two different DataFrames: \"text_metadata_df\" and \"image_metadata_df\".  \n",
    "# text_metadata_df: This will contain extracted text snippets, their corresponding page numbers, and potentially other relevant information.\n",
    "# image_metadata_df: This will contain descriptions of the images found in the PDF (if any), along with their location within the document.\n",
    "\n",
    "text_metadata_df, image_metadata_df = get_document_metadata(\n",
    "    multimodal_model, # we are passing gemini 1.0 pro vision model\n",
    "    pdf_folder_path,\n",
    "    image_save_dir=\"images\",\n",
    "    image_description_prompt=image_description_prompt,\n",
    "    embedding_size=1408,\n",
    ")\n",
    "\n",
    "print(\"\\n\\n --- Completed processing. ---\")"
   ]
  },
  {
   "cell_type": "markdown",
   "id": "a96cd147-4ce1-4110-9c5b-d755e7a07457",
   "metadata": {},
   "source": [
    "#### Inspect the processed text metadata"
   ]
  },
  {
   "cell_type": "code",
   "execution_count": 38,
   "id": "3f471508-1a38-4e3b-a4be-47e82acaf54b",
   "metadata": {
    "tags": []
   },
   "outputs": [
    {
     "data": {
      "text/html": [
       "<div>\n",
       "<style scoped>\n",
       "    .dataframe tbody tr th:only-of-type {\n",
       "        vertical-align: middle;\n",
       "    }\n",
       "\n",
       "    .dataframe tbody tr th {\n",
       "        vertical-align: top;\n",
       "    }\n",
       "\n",
       "    .dataframe thead th {\n",
       "        text-align: right;\n",
       "    }\n",
       "</style>\n",
       "<table border=\"1\" class=\"dataframe\">\n",
       "  <thead>\n",
       "    <tr style=\"text-align: right;\">\n",
       "      <th></th>\n",
       "      <th>file_name</th>\n",
       "      <th>page_num</th>\n",
       "      <th>text</th>\n",
       "      <th>text_embedding_page</th>\n",
       "      <th>chunk_number</th>\n",
       "      <th>chunk_text</th>\n",
       "      <th>text_embedding_chunk</th>\n",
       "    </tr>\n",
       "  </thead>\n",
       "  <tbody>\n",
       "    <tr>\n",
       "      <th>0</th>\n",
       "      <td>Google_terms_of_service_en_us.pdf</td>\n",
       "      <td>1</td>\n",
       "      <td>GOOGLE TERMS OF SERVICE\\nEffective January 5, ...</td>\n",
       "      <td>[0.018420301377773285, -0.035995256155729294, ...</td>\n",
       "      <td>1</td>\n",
       "      <td>GOOGLE TERMS OF SERVICE\\nEffective January 5, ...</td>\n",
       "      <td>[0.018351567909121513, -0.023393990471959114, ...</td>\n",
       "    </tr>\n",
       "    <tr>\n",
       "      <th>1</th>\n",
       "      <td>Google_terms_of_service_en_us.pdf</td>\n",
       "      <td>1</td>\n",
       "      <td>GOOGLE TERMS OF SERVICE\\nEffective January 5, ...</td>\n",
       "      <td>[0.018420301377773285, -0.035995256155729294, ...</td>\n",
       "      <td>2</td>\n",
       "      <td>ongs to you, Google, or others\\nIn case of pro...</td>\n",
       "      <td>[0.012958074919879436, -0.02373543567955494, -...</td>\n",
       "    </tr>\n",
       "    <tr>\n",
       "      <th>2</th>\n",
       "      <td>Google_terms_of_service_en_us.pdf</td>\n",
       "      <td>2</td>\n",
       "      <td>Google services are provided by, and youre con...</td>\n",
       "      <td>[0.022008631378412247, -0.03146402910351753, 0...</td>\n",
       "      <td>1</td>\n",
       "      <td>Google services are provided by, and youre con...</td>\n",
       "      <td>[0.01956416666507721, -0.030242910608649254, 0...</td>\n",
       "    </tr>\n",
       "    <tr>\n",
       "      <th>3</th>\n",
       "      <td>Google_terms_of_service_en_us.pdf</td>\n",
       "      <td>2</td>\n",
       "      <td>Google services are provided by, and youre con...</td>\n",
       "      <td>[0.022008631378412247, -0.03146402910351753, 0...</td>\n",
       "      <td>2</td>\n",
       "      <td>\\nto use our services if you agree to follow t...</td>\n",
       "      <td>[0.023477822542190552, -0.03806876018643379, 0...</td>\n",
       "    </tr>\n",
       "    <tr>\n",
       "      <th>4</th>\n",
       "      <td>Google_terms_of_service_en_us.pdf</td>\n",
       "      <td>3</td>\n",
       "      <td>apps and sites (like Search and Maps)\\nplatfor...</td>\n",
       "      <td>[0.008536546491086483, 0.007520652376115322, -...</td>\n",
       "      <td>1</td>\n",
       "      <td>apps and sites (like Search and Maps)\\nplatfor...</td>\n",
       "      <td>[-0.014875887893140316, 0.0004349025839474052,...</td>\n",
       "    </tr>\n",
       "  </tbody>\n",
       "</table>\n",
       "</div>"
      ],
      "text/plain": [
       "                           file_name  page_num  \\\n",
       "0  Google_terms_of_service_en_us.pdf         1   \n",
       "1  Google_terms_of_service_en_us.pdf         1   \n",
       "2  Google_terms_of_service_en_us.pdf         2   \n",
       "3  Google_terms_of_service_en_us.pdf         2   \n",
       "4  Google_terms_of_service_en_us.pdf         3   \n",
       "\n",
       "                                                text  \\\n",
       "0  GOOGLE TERMS OF SERVICE\\nEffective January 5, ...   \n",
       "1  GOOGLE TERMS OF SERVICE\\nEffective January 5, ...   \n",
       "2  Google services are provided by, and youre con...   \n",
       "3  Google services are provided by, and youre con...   \n",
       "4  apps and sites (like Search and Maps)\\nplatfor...   \n",
       "\n",
       "                                 text_embedding_page  chunk_number  \\\n",
       "0  [0.018420301377773285, -0.035995256155729294, ...             1   \n",
       "1  [0.018420301377773285, -0.035995256155729294, ...             2   \n",
       "2  [0.022008631378412247, -0.03146402910351753, 0...             1   \n",
       "3  [0.022008631378412247, -0.03146402910351753, 0...             2   \n",
       "4  [0.008536546491086483, 0.007520652376115322, -...             1   \n",
       "\n",
       "                                          chunk_text  \\\n",
       "0  GOOGLE TERMS OF SERVICE\\nEffective January 5, ...   \n",
       "1  ongs to you, Google, or others\\nIn case of pro...   \n",
       "2  Google services are provided by, and youre con...   \n",
       "3  \\nto use our services if you agree to follow t...   \n",
       "4  apps and sites (like Search and Maps)\\nplatfor...   \n",
       "\n",
       "                                text_embedding_chunk  \n",
       "0  [0.018351567909121513, -0.023393990471959114, ...  \n",
       "1  [0.012958074919879436, -0.02373543567955494, -...  \n",
       "2  [0.01956416666507721, -0.030242910608649254, 0...  \n",
       "3  [0.023477822542190552, -0.03806876018643379, 0...  \n",
       "4  [-0.014875887893140316, 0.0004349025839474052,...  "
      ]
     },
     "execution_count": 38,
     "metadata": {},
     "output_type": "execute_result"
    }
   ],
   "source": [
    "# \"COMPLETE THE MISSING PART AND RUN THIS CELL\"\n",
    "\n",
    "# Explore the text_metadata_df dataframe by displaying the first few rows of the dataframe.\n",
    "\n",
    "text_metadata_df.head()"
   ]
  },
  {
   "cell_type": "markdown",
   "id": "43ed0c6a-3d40-497b-b2c5-4a86c3b65c8d",
   "metadata": {},
   "source": [
    "#### Import the helper functions to implement RAG"
   ]
  },
  {
   "cell_type": "code",
   "execution_count": 39,
   "id": "c4580d12-94a1-4e1b-8ff6-587916c85241",
   "metadata": {
    "tags": []
   },
   "outputs": [],
   "source": [
    "# \"COMPLETE THE MISSING PART AND RUN THIS CELL\"\n",
    "\n",
    "# Import helper functions from utils.\n",
    "\n",
    "from utils.intro_multimodal_rag_utils import (\n",
    "    get_similar_text_from_query,\n",
    "    print_text_to_text_citation,\n",
    "    get_similar_image_from_query,\n",
    "    print_text_to_image_citation,\n",
    "    get_gemini_response,\n",
    "    display_images,\n",
    ")"
   ]
  },
  {
   "cell_type": "markdown",
   "id": "f110046a-0615-4836-8776-113bba1b4088",
   "metadata": {},
   "source": [
    "Proceed to Task 2.2 below (no progress check for Task 2.1 in lab instructions). \n",
    "\n",
    "### Task 2.2. Create a user query\n",
    "\n",
    "#### Explore the variables of the task"
   ]
  },
  {
   "cell_type": "code",
   "execution_count": 40,
   "id": "9ad2d8f5-f937-44fc-9c2d-2a1426134bb8",
   "metadata": {
    "tags": []
   },
   "outputs": [],
   "source": [
    "# \"RUN THIS CELL AS IS\"\n",
    "\n",
    "# You're going to work with provided variables in this task. \n",
    "# First, review and describe the content/purpose of each variable below. \n",
    "\n",
    "query = \"\"\"Questions:\n",
    " - What are the key expectations that users can have from Google regarding the provision and development of its services?\n",
    "- What specific rules and guidelines are established for users when using Google services?\n",
    "- How does Google handle intellectual property rights related to the content found within its services, including content owned by users, Google, and third parties? \n",
    "- What legal rights and remedies are available to users in case of problems or disagreements with Google?\n",
    "- How do the service-specific additional terms interact with these general Terms of Service, and which terms take precedence in case of any conflicts?\n",
    " \"\"\""
   ]
  },
  {
   "cell_type": "markdown",
   "id": "e7d1fa0d-3b6f-44ff-bcbf-8c8b184f9ba7",
   "metadata": {},
   "source": [
    "Proceed to Task 2.3 below (no progress check for Task 2.2 in lab instructions).\n",
    "\n",
    "### Task 2.3. Get all relevant text chunks\n",
    "\n",
    "#### Retrieve relevant chunks of text based on the query"
   ]
  },
  {
   "cell_type": "code",
   "execution_count": 41,
   "id": "cfbc25d9-2d7e-433e-a5df-8d38eae9e75f",
   "metadata": {
    "tags": []
   },
   "outputs": [],
   "source": [
    "# \"COMPLETE THE MISSING PART AND RUN THIS CELL\"\n",
    "\n",
    "# Call the \"get_similar_text_from_query\" function from the utils file to retrieve relevant chunks of text based on the query. Store the results in a dictionart called \"matching_results_chunks_data\".  \n",
    "# matching_results_chunks_data: This dictionary will contain file_name, page_num, cosine_score, chunk_number and chunk_socre. The dictionary represents a search result for a query related to the text_metadata_df.\n",
    "\n",
    "matching_results_chunks_data = get_similar_text_from_query(\n",
    "    query,\n",
    "    text_metadata_df,\n",
    "    column_name=\"text_embedding_chunk\",\n",
    "    top_n=10,\n",
    "    chunk_text=True,\n",
    ")\n"
   ]
  },
  {
   "cell_type": "markdown",
   "id": "6e4ec297-ca76-4cee-a008-c22002a0f7d3",
   "metadata": {},
   "source": [
    "#### Display the first item of the text chunk dictionary"
   ]
  },
  {
   "cell_type": "code",
   "execution_count": 42,
   "id": "d5d72676-9721-4ade-9342-5ffa4dec45ed",
   "metadata": {
    "tags": []
   },
   "outputs": [
    {
     "name": "stdout",
     "output_type": "stream",
     "text": [
      "\u001b[91mCitation 1: Matched text: \n",
      "\u001b[0m\n",
      "\u001b[94mscore: \u001b[0m 0.88\n",
      "\u001b[94mfile_name: \u001b[0m Google_terms_of_service_en_us.pdf\n",
      "\u001b[94mpage_number: \u001b[0m 1\n",
      "\u001b[94mchunk_number: \u001b[0m 1\n",
      "\u001b[94mchunk_text: \u001b[0m GOOGLE TERMS OF SERVICE\n",
      "Effective January 5, 2022\n",
      "Archived versions\n",
      "Whats covered in these terms\n",
      "We know its tempting to skip these Terms of Service, but\n",
      "its important to establish what you can expect from us as\n",
      "you use Google services, and what we expect from you.\n",
      "These Terms of Service reflect the way Googles business works, the laws that apply to our company, and\n",
      "certain things weve always believed to be true. As a result, these Terms of Service help define Googles\n",
      "relationship with you as you interact with our services. For example, these terms include the following topic\n",
      "headings:\n",
      "What you can expect from us, which describes how we provide and develop our services\n",
      "What we expect from you, which establishes certain rules for using our services\n",
      "Content in Google services, which describes the intellectual property rights to the content you find in our\n",
      "services  whether that content belongs to you, Google, or others\n",
      "In case of problems or disagreements, which describes other legal rig\n",
      "\u001b[91mCitation 2: Matched text: \n",
      "\u001b[0m\n",
      "\u001b[94mscore: \u001b[0m 0.84\n",
      "\u001b[94mfile_name: \u001b[0m Google_terms_of_service_en_us.pdf\n",
      "\u001b[94mpage_number: \u001b[0m 13\n",
      "\u001b[94mchunk_number: \u001b[0m 1\n",
      "\u001b[94mchunk_text: \u001b[0m About these terms\n",
      "By law, you have certain rights that cant be limited by a contract like these terms of service. These terms are\n",
      "in no way intended to restrict those rights.\n",
      "These terms describe the relationship between you and Google. They dont create any legal rights for other\n",
      "people or organizations, even if others benefit from that relationship under these terms.\n",
      "We want to make these terms easy to understand, so weve used examples from our services. But not all\n",
      "services mentioned may be available in your country.\n",
      "If these terms conflict with the service-specific additional terms, the additional terms will govern for that\n",
      "service.\n",
      "If it turns out that a particular term is not valid or enforceable, this will not affect any other terms.\n",
      "If you dont follow these terms or the service-specific additional terms, and we dont take action right away,\n",
      "that doesnt mean were giving up any rights that we may have, such as taking action in the future.\n",
      "We may update these terms and service-speci\n",
      "\u001b[91mCitation 3: Matched text: \n",
      "\u001b[0m\n",
      "\u001b[94mscore: \u001b[0m 0.81\n",
      "\u001b[94mfile_name: \u001b[0m Google_terms_of_service_en_us.pdf\n",
      "\u001b[94mpage_number: \u001b[0m 11\n",
      "\u001b[94mchunk_number: \u001b[0m 1\n",
      "\u001b[94mchunk_text: \u001b[0m To the extent allowed by applicable law:\n",
      "Google is liable only for its breaches of these terms or applicable service-specific additional terms\n",
      "Google isnt liable for:\n",
      "loss of profits, revenues, business opportunities, goodwill, or anticipated savings\n",
      "indirect or consequential losses\n",
      "punitive damages\n",
      "Googles total liability arising out of or relating to these terms is limited to the greater of (1) $200 or (2)\n",
      "the fees paid to use the relevant services in the 12 months before the dispute\n",
      "For business users and organizations only\n",
      "If youre a business user or organization:\n",
      "To the extent allowed by applicable law, youll indemnify Google and its directors, officers, employees,\n",
      "and contractors for any third-party legal proceedings (including actions by government authorities)\n",
      "arising out of or relating to your unlawful use of the services or violation of these terms or service-\n",
      "specific additional terms. This indemnity covers any liability or expense arising from claims, losses,\n",
      "damages, judgm\n",
      "\u001b[91mCitation 4: Matched text: \n",
      "\u001b[0m\n",
      "\u001b[94mscore: \u001b[0m 0.8\n",
      "\u001b[94mfile_name: \u001b[0m Google_terms_of_service_en_us.pdf\n",
      "\u001b[94mpage_number: \u001b[0m 1\n",
      "\u001b[94mchunk_number: \u001b[0m 2\n",
      "\u001b[94mchunk_text: \u001b[0m ongs to you, Google, or others\n",
      "In case of problems or disagreements, which describes other legal rights you have, and what to expect\n",
      "in case someone violates these terms\n",
      "Understanding these terms is important because, by using our services, youre agreeing to these terms.\n",
      "Besides these terms, we also publish a Privacy Policy. We encourage you to read it to better understand how\n",
      "you can update, manage, export, and delete your information.\n",
      "Terms\n",
      "Service provider\n",
      "\n",
      "\u001b[91mCitation 5: Matched text: \n",
      "\u001b[0m\n",
      "\u001b[94mscore: \u001b[0m 0.79\n",
      "\u001b[94mfile_name: \u001b[0m Google_terms_of_service_en_us.pdf\n",
      "\u001b[94mpage_number: \u001b[0m 2\n",
      "\u001b[94mchunk_number: \u001b[0m 2\n",
      "\u001b[94mchunk_text: \u001b[0m \n",
      "to use our services if you agree to follow these terms, which reflect how Googles business works and how we\n",
      "earn money. When we speak of Google, we, us, and our, we mean Google LLC and its affiliates.\n",
      "What you can expect from us\n",
      "Provide a broad range of useful services\n",
      "We provide a broad range of services that are subject to these terms, including:\n",
      "\n",
      "\u001b[91mCitation 6: Matched text: \n",
      "\u001b[0m\n",
      "\u001b[94mscore: \u001b[0m 0.79\n",
      "\u001b[94mfile_name: \u001b[0m Google_terms_of_service_en_us.pdf\n",
      "\u001b[94mpage_number: \u001b[0m 12\n",
      "\u001b[94mchunk_number: \u001b[0m 1\n",
      "\u001b[94mchunk_text: \u001b[0m Removing your content\n",
      "If any of your content (1) breaches these terms, service-specific additional terms or policies, (2) violates\n",
      "applicable law, or (3) could harm our users, third parties, or Google, then we reserve the right to take down\n",
      "some or all of that content in accordance with applicable law. Examples include child pornography, content\n",
      "that facilitates human trafficking or harassment, terrorist content, and content that infringes someone elses\n",
      "intellectual property rights.\n",
      "Suspending or terminating your access to Google services\n",
      "Google reserves the right to suspend or terminate your access to the services or delete your Google Account\n",
      "if any of these things happen:\n",
      "you materially or repeatedly breach these terms, service-specific additional terms or policies\n",
      "were required to do so to comply with a legal requirement or a court order\n",
      "your conduct causes harm or liability to a user, third party, or Google  for example, by hacking,\n",
      "phishing, harassing, spamming, misleading others\n",
      "\u001b[91mCitation 7: Matched text: \n",
      "\u001b[0m\n",
      "\u001b[94mscore: \u001b[0m 0.78\n",
      "\u001b[94mfile_name: \u001b[0m Google_terms_of_service_en_us.pdf\n",
      "\u001b[94mpage_number: \u001b[0m 2\n",
      "\u001b[94mchunk_number: \u001b[0m 1\n",
      "\u001b[94mchunk_text: \u001b[0m Google services are provided by, and youre contracting with:\n",
      "Google LLC\n",
      "organized under the laws of the State of Delaware, USA, and operating under the laws of the USA\n",
      "1600 Amphitheatre Parkway\n",
      "Mountain View, California 94043\n",
      "USA\n",
      "Age requirements\n",
      "If youre under the age required to manage your own Google Account, you must have your parent or legal\n",
      "guardians permission to use a Google Account. Please have your parent or legal guardian read these terms\n",
      "with you.\n",
      "If youre a parent or legal guardian, and you allow your child to use the services, then these terms apply to\n",
      "you and youre responsible for your childs activity on the services.\n",
      "Some Google services have additional age requirements as described in their service-specific additional terms\n",
      "and policies.\n",
      "Your relationship with Google\n",
      "These terms help define the relationship between you and Google. Broadly speaking, we give you permission\n",
      "to use our services if you agree to follow these terms, which reflect how Googles business works an\n",
      "\u001b[91mCitation 8: Matched text: \n",
      "\u001b[0m\n",
      "\u001b[94mscore: \u001b[0m 0.78\n",
      "\u001b[94mfile_name: \u001b[0m Google_terms_of_service_en_us.pdf\n",
      "\u001b[94mpage_number: \u001b[0m 3\n",
      "\u001b[94mchunk_number: \u001b[0m 2\n",
      "\u001b[94mchunk_text: \u001b[0m  to our services, and start offering new services or stop\n",
      "offering old ones. When a service requires or includes downloadable software, that software sometimes\n",
      "updates automatically on your device once a new version or feature is available. Some services let you adjust\n",
      "your automatic update settings.\n",
      "If we make material changes that negatively impact your use of our services or if we stop offering a service,\n",
      "well provide you with reasonable advance notice, except in urgent situations such as preventing abuse,\n",
      "responding to legal requirements, or addressing security and operability issues. Well also provide you with an\n",
      "opportunity to export your content from your Google Account using Google Takeout, subject to applicable\n",
      "law and policies.\n",
      "What we expect from you\n",
      "Follow these terms and service-specific additional terms\n",
      "The permission we give you to use our services continues as long as you comply with:\n",
      "these terms\n",
      "\n",
      "\u001b[91mCitation 9: Matched text: \n",
      "\u001b[0m\n",
      "\u001b[94mscore: \u001b[0m 0.78\n",
      "\u001b[94mfile_name: \u001b[0m Google_terms_of_service_en_us.pdf\n",
      "\u001b[94mpage_number: \u001b[0m 10\n",
      "\u001b[94mchunk_number: \u001b[0m 1\n",
      "\u001b[94mchunk_text: \u001b[0m Some of our services include software thats offered under open source license terms that we make available\n",
      "to you. Sometimes there are provisions in the open source license that explicitly override parts of these terms,\n",
      "so please be sure to read those licenses.\n",
      "You may not copy, modify, distribute, sell, or lease any part of our services or software.\n",
      "In case of problems or disagreements\n",
      "Warranty disclaimer\n",
      "We built our reputation on providing useful, reliable services like Google Search and Maps, and were\n",
      "continuously improving our services to meet your needs. However, for legal purposes, we offer our services\n",
      "without warranties unless explicitly stated in our service-specific additional terms. The law requires that we\n",
      "explain this using specific legal language and that we use capital letters to help make sure you see it, as\n",
      "follows:\n",
      "TO THE EXTENT ALLOWED BY APPLICABLE LAW, WE PROVIDE OUR SERVICES AS IS WITHOUT ANY\n",
      "EXPRESS OR IMPLIED WARRANTIES, INCLUDING THE IMPLIED WARRANTIES OF MERC\n",
      "\u001b[91mCitation 10: Matched text: \n",
      "\u001b[0m\n",
      "\u001b[94mscore: \u001b[0m 0.78\n",
      "\u001b[94mfile_name: \u001b[0m Google_terms_of_service_en_us.pdf\n",
      "\u001b[94mpage_number: \u001b[0m 11\n",
      "\u001b[94mchunk_number: \u001b[0m 2\n",
      "\u001b[94mchunk_text: \u001b[0m al terms. This indemnity covers any liability or expense arising from claims, losses,\n",
      "damages, judgments, fines, litigation costs, and legal fees.\n",
      "If youre legally exempt from certain responsibilities, including indemnification, then those\n",
      "responsibilities dont apply to you under these terms. For example, the United Nations enjoys certain\n",
      "immunities from legal obligations and these terms dont override those immunities.\n",
      "Taking action in case of problems\n",
      "Before taking action as described below, well provide you with advance notice when reasonably possible,\n",
      "describe the reason for our action, and give you an opportunity to fix the problem, unless doing so would:\n",
      "cause harm or liability to a user, third party, or Google\n",
      "violate the law or a legal enforcement authoritys order\n",
      "compromise an investigation\n",
      "compromise the operation, integrity, or security of our services\n",
      "\n"
     ]
    }
   ],
   "source": [
    "# \"COMPLETE THE MISSING PART AND RUN THIS CELL\"\n",
    "\n",
    "# Explore the first item in your matching_results_chunks_data dictionary by displaying the first item.\n",
    "\n",
    "print_text_to_text_citation(\n",
    "    matching_results_chunks_data,\n",
    "    print_top=False,\n",
    "    chunk_text=True,\n",
    ")"
   ]
  },
  {
   "cell_type": "markdown",
   "id": "9f86a088-41c6-4bd2-8fc7-45f0a7e8a2e4",
   "metadata": {},
   "source": [
    "Proceed to Task 2.4 below (no progress check for Task 2.3 in lab instructions).\n",
    "\n",
    "### Task 2.4. Create context_text\n",
    "\n",
    "#### Create a list to store the combined chunks of text"
   ]
  },
  {
   "cell_type": "code",
   "execution_count": 43,
   "id": "e1595d30",
   "metadata": {
    "tags": []
   },
   "outputs": [],
   "source": [
    "# \"COMPLETE THE MISSING PART AND RUN THIS CELL\"\n",
    "\n",
    "\n",
    "# Create an empty list named \"context_text\". This list will be used to store the combined chunks of text.\n",
    "context_text = list()\n"
   ]
  },
  {
   "cell_type": "markdown",
   "id": "95503358",
   "metadata": {},
   "source": [
    "#### Iterate through each item in the text chunks dictionary"
   ]
  },
  {
   "cell_type": "code",
   "execution_count": 44,
   "id": "9aeddeea",
   "metadata": {
    "tags": []
   },
   "outputs": [],
   "source": [
    "# \"COMPLETE THE MISSING PART AND RUN THIS CELL\"\n",
    "\n",
    "# Create a for loop to iterate through each item in the matching_results_chunks_data dictionary in order to combine all the selected relevant text chunks\n",
    "\n",
    "for key, value in matching_results_chunks_data.items():\n",
    "    context_text.append(value[\"chunk_text\"]) \n"
   ]
  },
  {
   "cell_type": "markdown",
   "id": "03b14e4b",
   "metadata": {},
   "source": [
    "#### Join all the text chunks and store in a list"
   ]
  },
  {
   "cell_type": "code",
   "execution_count": 45,
   "id": "dc954cd7",
   "metadata": {
    "tags": []
   },
   "outputs": [],
   "source": [
    "# \"COMPLETE THE MISSING PART AND RUN THIS CELL\"\n",
    "\n",
    "# Take all of the individual text chunks stored in the context_text list and join them together into a single string named final_context_text. Use \"\\n\" part inserts a newline character between each chunk, effectively creating separate lines or paragraphs.\n",
    "\n",
    "final_context_text = \"\\n\".join(context_text)"
   ]
  },
  {
   "cell_type": "markdown",
   "id": "89cba9b5",
   "metadata": {},
   "source": [
    "Proceed to Task 2.5 below (no progress check for Task 2.4 in lab instructions).\n",
    "\n",
    "### Task 2.5. Pass context to Gemini\n",
    "\n",
    "#### Explore the variables of the task\n"
   ]
  },
  {
   "cell_type": "code",
   "execution_count": 46,
   "id": "bf8241d2-7b7e-48c8-a7bd-1db5bcdb115f",
   "metadata": {
    "tags": []
   },
   "outputs": [],
   "source": [
    "# \"RUN THIS CELL AS IS\"\n",
    "\n",
    "# You're going to work with provided variables in this task. First, review and describe the content/purpose of each variable below. \n",
    "\n",
    "prompt = f\"\"\" Instructions: Compare the images and the text provided as Context: to answer multiple Question:\n",
    "Make sure to think thoroughly before answering the question and put the necessary steps to arrive at the answer in bullet points for easy explainability.\n",
    "If unsure, respond, \"Not enough context to answer\".\n",
    "\n",
    "Context:\n",
    " - Text Context:\n",
    " {final_context_text}\n",
    "\n",
    "\n",
    "{query}\n",
    "\n",
    "Answer:\n",
    "\"\"\""
   ]
  },
  {
   "cell_type": "markdown",
   "id": "46376c65",
   "metadata": {},
   "source": [
    "#### Generate Gemini response with streaming output"
   ]
  },
  {
   "cell_type": "code",
   "execution_count": 48,
   "id": "bebe99d9",
   "metadata": {
    "tags": []
   },
   "outputs": [
    {
     "data": {
      "text/markdown": [
       "1. **What are the key expectations that users can have from Google regarding the provision and development of its services?**\n",
       " - Google provides a broad range of useful services that are subject to these terms.\n",
       " - Google continuously improves its services to meet the needs of its users.\n",
       " - Google provides reasonable advance notice before making material changes that negatively impact the use of its services or if it stops offering a service.\n",
       " - Google provides users with an opportunity to export their content from their Google Account using Google Takeout, subject to applicable law and policies.\n",
       "\n",
       "\n",
       "2. **What specific rules and guidelines are established for users when using Google services?**\n",
       " - Users must follow these terms and service-specific additional terms.\n",
       " - Users may not copy, modify, distribute, sell, or lease any part of Google's services or software.\n",
       " - Users must not use Google services for illegal or harmful purposes.\n",
       " - Users must not violate the intellectual property rights of others.\n",
       "\n",
       "\n",
       "3. **How does Google handle intellectual property rights related to the content found within its services, including content owned by users, Google, and third parties?**\n",
       " - Google respects the intellectual property rights of others.\n",
       " - Google may remove content that violates the intellectual property rights of others.\n",
       " - Google may terminate the access of users who repeatedly infringe the intellectual property rights of others.\n",
       "\n",
       "\n",
       "4. **What legal rights and remedies are available to users in case of problems or disagreements with Google?**\n",
       " - Users have the right to file a complaint with Google.\n",
       " - Users may have the right to seek legal action against Google.\n",
       " - Google is liable only for its breaches of these terms or applicable service-specific additional terms.\n",
       " - Google is not liable for indirect or consequential losses, punitive damages, or loss of profits.\n",
       "\n",
       "\n",
       "5. **How do the service-specific additional terms interact with these general Terms of Service, and which terms take precedence in case of any conflicts?**\n",
       " - The service-specific additional terms govern for that service in case of any conflicts with these general Terms of Service."
      ],
      "text/plain": [
       "<IPython.core.display.Markdown object>"
      ]
     },
     "execution_count": 48,
     "metadata": {},
     "output_type": "execute_result"
    }
   ],
   "source": [
    "# \"COMPLETE THE MISSING PART AND RUN THIS CELL\"\n",
    "\n",
    "# Call \"get_gemini_response\" function from utils module in order to generate Gemini response with streaming output. This function uses a multimodal Gemini model, a text prompt, and configuration parameters and instructs the Gemini model to generate a response using the provided prompt. As Gemini model enables streaming, you will receive chunks of the response as they were produced. \n",
    "# Format the streamed output using Markdown syntax for easy readability and conversion to HTML.\n",
    "\n",
    "Markdown(\n",
    "    get_gemini_response(\n",
    "        multimodal_model,\n",
    "        model_input=[prompt],\n",
    "        stream=True,\n",
    "        generation_config=GenerationConfig(temperature=0.2, max_output_tokens=2048),\n",
    "    )\n",
    ")"
   ]
  },
  {
   "cell_type": "markdown",
   "id": "22f691d3-2468-4efd-9040-6b2736ab85df",
   "metadata": {},
   "source": [
    "### To verify your work for Task 2.5, click __Check my progress__ in the lab instructions."
   ]
  },
  {
   "cell_type": "code",
   "execution_count": null,
   "id": "0a803f68-4625-4633-9eba-4f7fe4db8d2e",
   "metadata": {},
   "outputs": [],
   "source": []
  },
  {
   "cell_type": "code",
   "execution_count": null,
   "id": "60613074-60fa-4a96-ad31-d52f0497ebd3",
   "metadata": {},
   "outputs": [],
   "source": []
  },
  {
   "cell_type": "code",
   "execution_count": null,
   "id": "34031c04-4991-4b83-b677-865ef637c133",
   "metadata": {},
   "outputs": [],
   "source": []
  }
 ],
 "metadata": {
  "environment": {
   "kernel": "conda-base-py",
   "name": "tf2-cpu.2-15.m121",
   "type": "gcloud",
   "uri": "us-docker.pkg.dev/deeplearning-platform-release/gcr.io/tf2-cpu.2-15:m121"
  },
  "kernelspec": {
   "display_name": "Python [conda env:base] * (Local)",
   "language": "python",
   "name": "conda-base-py"
  },
  "language_info": {
   "codemirror_mode": {
    "name": "ipython",
    "version": 3
   },
   "file_extension": ".py",
   "mimetype": "text/x-python",
   "name": "python",
   "nbconvert_exporter": "python",
   "pygments_lexer": "ipython3",
   "version": "3.10.14"
  }
 },
 "nbformat": 4,
 "nbformat_minor": 5
}
